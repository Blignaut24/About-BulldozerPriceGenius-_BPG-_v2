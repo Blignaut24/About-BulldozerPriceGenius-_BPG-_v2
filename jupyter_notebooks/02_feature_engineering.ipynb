{
  "cells": [
    {
      "cell_type": "markdown",
      "metadata": {
        "id": "0aStgWSO0E0E"
      },
      "source": [
        "# **02. Feature Engineering**\n",
        "*This notebook will focus on adding extra features like saleYear, saleMonth, etc., derived from the saledate column.*\n"
      ]
    },
    {
      "cell_type": "markdown",
      "metadata": {
        "id": "1eLEkw5O0ECa"
      },
      "source": [
        "## Objectives\n",
        "\n",
        "- Engineer features for modeling bulldozer prices\n",
        "- To improve our bulldozer price predictions by:\n",
        "    - Creating helpful new data points\n",
        "    - Adjusting existing information\n",
        "    - Picking the most useful details that help predict prices accurately\n",
        "- To look at our data closely to understand how different pieces of information are connected and organized, which will help us find what's most important for predicting bulldozer prices\n",
        "\n",
        "## Inputs\n",
        "\n",
        "- Raw bulldozer sales dataset containing sale dates, machine hours, model identifiers, and other relevant attributes\n",
        "- Extra data to make our analysis better\n",
        "- A processed dataset with engineered features, ready for model training\n",
        "- Visualizations and summary statistics showing data insights and feature engineering effectiveness\n",
        "\n",
        "## Outputs\n",
        "\n",
        "- Dataset prepared and improved for predicting bulldozer prices\n",
        "- Analysis of which features affect bulldozer prices the most\n",
        "\n",
        "## Additional Comments\n",
        "\n",
        "- Clean up any data that's missing or unusual before using it\n",
        "- Document all decisions and their rationales during the data improvement process\n",
        "- This notebook is a crucial step in our machine learning pipeline, preparing data for accurate and robust predictive models\n",
        "- **Traditional data analysis techniques include:**\n",
        "    - **Exploratory Data Analysis (EDA)**: Understanding distributions, relationships, and patterns through summary statistics, visualizations, and outlier identification\n",
        "    - **Correlation Analysis**: Identifying relevant features by analyzing their relationships with bulldozer prices\n",
        "    - **Data Cleaning**: Handling missing values, fixing inconsistencies, and formatting data appropriately\n",
        "- **Machine learning techniques include:**\n",
        "    - **Feature Engineering**: Creating new features like bulldozer age and usage metrics, and converting categorical variables to numerical forms\n",
        "    - **Feature Selection**: Using preliminary models to evaluate and select the most important features\n",
        "    - **Data Transformation**: Applying scaling and normalization to prepare features for model training\n",
        "\n",
        "By combining these approaches, we've created a thorough process for preparing our dataset for accurate price prediction models."
      ]
    },
    {
      "cell_type": "markdown",
      "metadata": {
        "id": "9uWZXH9LwoQg"
      },
      "source": [
        "---"
      ]
    },
    {
      "cell_type": "markdown",
      "metadata": {},
      "source": [
        "# Execution Timestamp\n",
        "\n",
        "Purpose: This code block adds a timestamp to track notebook execution\n",
        "- Helps monitor when analysis was last performed\n",
        "- Ensures reproducibility of results\n",
        "- Useful for debugging and version control"
      ]
    },
    {
      "cell_type": "code",
      "execution_count": 111,
      "metadata": {},
      "outputs": [
        {
          "name": "stdout",
          "output_type": "stream",
          "text": [
            "Notebook last run (end-to-end): 2025-02-15 13:08:22.714589\n"
          ]
        }
      ],
      "source": [
        "# Timestamp\n",
        "import datetime\n",
        "\n",
        "import datetime\n",
        "print(f\"Notebook last run (end-to-end): {datetime.datetime.now()}\")"
      ]
    },
    {
      "cell_type": "markdown",
      "metadata": {
        "id": "cqP-UeN-z3i2"
      },
      "source": [
        "# Project Directory Structure and Working Directory\n",
        "\n",
        "**Purpose: This code block establishes and explains the project organization**\n",
        "- Creates a standardized project structure for data science workflows\n",
        "- Documents the purpose of each directory for team collaboration\n",
        "- Gets current working directory for file path management\n",
        "\n",
        "## Key Components:\n",
        "1. `data/ directory` stores all datasets (raw, processed, interim)\n",
        "2. `src/` contains all source code (data preparation, models, utilities)\n",
        "3. `notebooks/` holds Jupyter notebooks for experimentation\n",
        "4. `results/` stores output files and visualizations\n",
        "\n",
        "## Project Root Structure\n",
        "\n",
        "- **`data/`** - Where all your datasets live\n",
        "    - `raw/` - Original, untouched data\n",
        "    - `processed/` - Cleaned and prepared data\n",
        "    - `interim/` - Temporary data files\n",
        "- **`src/`** - Your source code\n",
        "    - `data_prep/` - Code for preparing data\n",
        "    - `models/` - Your ML models\n",
        "    - `utils/` - Helper functions\n",
        "- **`notebooks/`** - Jupyter notebooks for experiments\n",
        "- **`results/`** - Model outputs and visualizations"
      ]
    },
    {
      "cell_type": "markdown",
      "metadata": {},
      "source": [
        "## Setting Up Working Directory\n",
        "This code block sets up the working environment by:\n",
        "- Changing to the project directory where our code and data files are located\n",
        "- Verifying the current working directory to ensure we're in the right place"
      ]
    },
    {
      "cell_type": "code",
      "execution_count": 1,
      "metadata": {
        "id": "wZfF_j-Bz3i4",
        "outputId": "66943449-1436-4c3d-85c7-b85f9f78349b"
      },
      "outputs": [
        {
          "data": {
            "text/plain": [
              "'c:\\\\Users\\\\blign\\\\Dropbox\\\\1 PROJECT\\\\VS Code Project Respository\\\\About-BulldozerPriceGenius-_BPG-_v2'"
            ]
          },
          "execution_count": 1,
          "metadata": {},
          "output_type": "execute_result"
        }
      ],
      "source": [
        "import os\n",
        "\n",
        "# Move to the desired directory\n",
        "os.chdir('c:\\\\Users\\\\blign\\\\Dropbox\\\\1 PROJECT\\\\VS Code Project Respository\\\\About-BulldozerPriceGenius-_BPG-_v2')\n",
        "\n",
        "# Get the current directory to verify the change\n",
        "current_dir = os.getcwd()\n",
        "current_dir"
      ]
    },
    {
      "cell_type": "markdown",
      "metadata": {},
      "source": [
        "## Set Working Directory to Project Root\n",
        "**Purpose: Changes the current working directory to the parent directory**\n",
        "- Gets the folder one level above the current one\n",
        "- Makes sure all file locations work correctly throughout the project\n",
        "- Keeps files and folders organized in a clean way"
      ]
    },
    {
      "cell_type": "code",
      "execution_count": 2,
      "metadata": {
        "id": "TwHsQRWjz3i9",
        "outputId": "86849db3-cd2f-4cc5-ebb8-2d0caafa1a2c"
      },
      "outputs": [
        {
          "name": "stdout",
          "output_type": "stream",
          "text": [
            "You set a new current directory\n"
          ]
        }
      ],
      "source": [
        "os.chdir(os.path.dirname(current_dir))\n",
        "print(\"You set a new current directory\")"
      ]
    },
    {
      "cell_type": "markdown",
      "metadata": {
        "id": "M_xPk_Ijz3i-"
      },
      "source": [
        "## Get Current Working Directory\n",
        "**Purpose: Retrieves and stores the current working directory path**\n",
        "- Gets the folder location where we're currently working\n",
        "- Saves this location in a variable called current_dir so we can use it later\n",
        "- Helps us find and work with files in the right place"
      ]
    },
    {
      "cell_type": "code",
      "execution_count": 3,
      "metadata": {
        "id": "vz3S-_kjz3jA",
        "outputId": "00b79ae4-75d0-4a96-d193-ac9ef9847ea2"
      },
      "outputs": [
        {
          "data": {
            "text/plain": [
              "'c:\\\\Users\\\\blign\\\\Dropbox\\\\1 PROJECT\\\\VS Code Project Respository'"
            ]
          },
          "execution_count": 3,
          "metadata": {},
          "output_type": "execute_result"
        }
      ],
      "source": [
        "import os\n",
        "\n",
        "# Change the current working directory\n",
        "os.chdir('c:\\\\Users\\\\blign\\\\Dropbox\\\\1 PROJECT\\\\VS Code Project Respository')\n",
        "\n",
        "# Get the current working directory\n",
        "current_dir = os.getcwd()\n",
        "current_dir"
      ]
    },
    {
      "cell_type": "markdown",
      "metadata": {},
      "source": [
        "# **Import Essential Data Science Libraries and Check Versions**\n",
        "\n",
        "**Purpose: This code block imports fundamental Python libraries for data analysis and visualization**\n",
        "- `pandas:` For data manipulation and analysis\n",
        "- `numpy:` For numerical computations\n",
        "- `matplotlib:` For creating visualizations and plots\n",
        "\n",
        "**The version checks help ensure:**\n",
        "- *Code compatibility across different environments*\n",
        "- *Reproducibility of analysis*\n",
        "- *Easy debugging of version-specific issues*\n"
      ]
    },
    {
      "cell_type": "code",
      "execution_count": 115,
      "metadata": {},
      "outputs": [
        {
          "name": "stdout",
          "output_type": "stream",
          "text": [
            "pandas version: 2.2.3\n",
            "NumPy version: 2.2.2\n",
            "matplotlib version: 3.10.0\n"
          ]
        }
      ],
      "source": [
        "# Import data analysis tools\n",
        "import pandas as pd\n",
        "import numpy as np\n",
        "import matplotlib\n",
        "import matplotlib.pyplot as plt\n",
        "\n",
        "\n",
        "print(f\"pandas version: {pd.__version__}\")\n",
        "print(f\"NumPy version: {np.__version__}\")\n",
        "print(f\"matplotlib version: {matplotlib.__version__}\")"
      ]
    },
    {
      "cell_type": "markdown",
      "metadata": {
        "id": "-mavJ8DibrcQ"
      },
      "source": [
        "# **Adding extra features to our DataFrame**\n",
        "### What is Feature Engineering?\n",
        "\n",
        "Feature engineering is a powerful technique that allows us to enhance our dataset by deriving new meaningful information from existing data. In this section, we'll explore how to extract valuable temporal features from our sale dates to improve our analysis.\n",
        "\n",
        "### Time-Based Components\n",
        "\n",
        "Our approach will focus on breaking down sale dates into multiple time-based components:\n",
        "\n",
        "- What year it was sold\n",
        "- What month it was sold\n",
        "- What day it was sold\n",
        "- What day of the week it was sold (like Monday = 1, Tuesday = 2)\n",
        "- What day of the year it was sold (like January 1st = 1, January 2nd = 2)\n",
        "\n",
        "### Data Safety\n",
        "\n",
        "To ensure data integrity throughout this process, we'll first create a backup of our original dataset. This precautionary step will allow us to revert any changes if needed.\n"
      ]
    },
    {
      "cell_type": "markdown",
      "metadata": {},
      "source": [
        "## **Creating a Safe Working Copy**\n",
        "Before we start modifying our dataset, it's crucial to create a backup copy. This ensures we can always return to our original data if needed."
      ]
    },
    {
      "cell_type": "code",
      "execution_count": 116,
      "metadata": {},
      "outputs": [
        {
          "name": "stdout",
          "output_type": "stream",
          "text": [
            "Current Directory: c:\\Users\\blign\\Dropbox\\1 PROJECT\\VS Code Project Respository\n",
            "Directories in the project:\n",
            "About-BulldozerPriceGenius-_BPG-_v2\n",
            "BulldozerPriceGenuis-BPG-\n",
            "churnometer\n",
            "CI-Malaria-Detection\n",
            "Culture-Project\n",
            "data\n",
            "housing-price-data-ml\n",
            "inputs\n",
            "job_board_django_ztm\n",
            "NederLearn\n",
            "NederLearn_V2\n",
            "Nederlearn_V3\n",
            "Nederlearn_V4\n",
            "NederLearn_V5\n",
            "PriceBulldozerAI\n",
            "Recipe-App\n",
            "Recipe-App-Tutorial\n",
            "Recipe-Tutorial-Dee-MC\n",
            "Scartch-Pad\n",
            "ZTM-Django-bitly-forms\n",
            "ztm_bd\n",
            "ztm_django_bitly_clone_project\n",
            "ztm_django_jobs_board\n",
            "ztm_django_movie_app\n"
          ]
        }
      ],
      "source": [
        "import os\n",
        "\n",
        "# Check the current directory\n",
        "current_directory = os.getcwd()\n",
        "print(f\"Current Directory: {current_directory}\")\n",
        "\n",
        "# List all directories in the project\n",
        "project_directory = current_directory  # Change this if your project directory is different\n",
        "directories = [d for d in os.listdir(project_directory) if os.path.isdir(os.path.join(project_directory, d))]\n",
        "\n",
        "print(\"Directories in the project:\")\n",
        "for directory in directories:\n",
        "    print(directory)"
      ]
    },
    {
      "cell_type": "markdown",
      "metadata": {},
      "source": [
        "## File Path Verification Code\n",
        "\n",
        "This code block serves two essential purposes:\n",
        "\n",
        "- Verifies the existence of our training dataset (`TrainAndValid.csv`) before attempting to use it\n",
        "- Provides immediate feedback about file accessibility, helping prevent data loading errors"
      ]
    },
    {
      "cell_type": "code",
      "execution_count": 117,
      "metadata": {},
      "outputs": [
        {
          "name": "stdout",
          "output_type": "stream",
          "text": [
            "The file C:\\Users\\blign\\Dropbox\\1 PROJECT\\VS Code Project Respository\\About-BulldozerPriceGenius-_BPG-_v2\\data\\raw\\bluebook-for-bulldozers\\TrainAndValid.csv exists.\n"
          ]
        }
      ],
      "source": [
        "import os\n",
        "\n",
        "file_path = \"C:\\\\Users\\\\blign\\\\Dropbox\\\\1 PROJECT\\\\VS Code Project Respository\\\\About-BulldozerPriceGenius-_BPG-_v2\\\\data\\\\raw\\\\bluebook-for-bulldozers\\\\TrainAndValid.csv\"\n",
        "\n",
        "# Check if file exists in specified path\n",
        "if os.path.exists(file_path):\n",
        "    print(f\"The file {file_path} exists.\")\n",
        "else:\n",
        "    print(f\"The file {file_path} does not exist.\")"
      ]
    },
    {
      "cell_type": "markdown",
      "metadata": {},
      "source": [
        "## Folder Path Verification\n",
        "\n",
        "This code block is designed to verify the existence of our processed data folder, which is crucial for data management and integrity. It performs two key functions:\n",
        "\n",
        "- Checks if the specified folder path exists in our project structure\n",
        "- Provides immediate feedback about folder accessibility to prevent data storage/retrieval errors"
      ]
    },
    {
      "cell_type": "code",
      "execution_count": 118,
      "metadata": {},
      "outputs": [
        {
          "name": "stdout",
          "output_type": "stream",
          "text": [
            "The folder C:\\Users\\blign\\Dropbox\\1 PROJECT\\VS Code Project Respository\\About-BulldozerPriceGenius-_BPG-_v2\\data\\processed exists.\n"
          ]
        }
      ],
      "source": [
        "import os\n",
        "\n",
        "folder_path = \"C:\\\\Users\\\\blign\\\\Dropbox\\\\1 PROJECT\\\\VS Code Project Respository\\\\About-BulldozerPriceGenius-_BPG-_v2\\\\data\\\\processed\"\n",
        "\n",
        "# Check if folder exists in specified path\n",
        "if os.path.exists(folder_path):\n",
        "    print(f\"The folder {folder_path} exists.\")\n",
        "else:\n",
        "    print(f\"The folder {folder_path} does not exist.\")"
      ]
    },
    {
      "cell_type": "markdown",
      "metadata": {},
      "source": [
        "## Loading and Preprocessing the Bulldozer Dataset\n",
        "\n",
        "This code block performs essential data loading and preprocessing steps:\n",
        "\n",
        "- Reads the raw bulldozer price dataset using pandas, with specific configurations:\n",
        "    - Disables low memory mode to handle mixed data types\n",
        "    - Automatically parses the 'saledate' column as datetime\n",
        "- Creates a safe working copy of the data to prevent modifications to the original dataset\n",
        "- Saves the preprocessed dataset to our processed data folder for further analysis"
      ]
    },
    {
      "cell_type": "code",
      "execution_count": 119,
      "metadata": {},
      "outputs": [
        {
          "name": "stdout",
          "output_type": "stream",
          "text": [
            "<class 'pandas.core.frame.DataFrame'>\n",
            "RangeIndex: 412698 entries, 0 to 412697\n",
            "Data columns (total 53 columns):\n",
            " #   Column                    Non-Null Count   Dtype         \n",
            "---  ------                    --------------   -----         \n",
            " 0   SalesID                   412698 non-null  int64         \n",
            " 1   SalePrice                 412698 non-null  float64       \n",
            " 2   MachineID                 412698 non-null  int64         \n",
            " 3   ModelID                   412698 non-null  int64         \n",
            " 4   datasource                412698 non-null  int64         \n",
            " 5   auctioneerID              392562 non-null  float64       \n",
            " 6   YearMade                  412698 non-null  int64         \n",
            " 7   MachineHoursCurrentMeter  147504 non-null  float64       \n",
            " 8   UsageBand                 73670 non-null   object        \n",
            " 9   saledate                  412698 non-null  datetime64[ns]\n",
            " 10  fiModelDesc               412698 non-null  object        \n",
            " 11  fiBaseModel               412698 non-null  object        \n",
            " 12  fiSecondaryDesc           271971 non-null  object        \n",
            " 13  fiModelSeries             58667 non-null   object        \n",
            " 14  fiModelDescriptor         74816 non-null   object        \n",
            " 15  ProductSize               196093 non-null  object        \n",
            " 16  fiProductClassDesc        412698 non-null  object        \n",
            " 17  state                     412698 non-null  object        \n",
            " 18  ProductGroup              412698 non-null  object        \n",
            " 19  ProductGroupDesc          412698 non-null  object        \n",
            " 20  Drive_System              107087 non-null  object        \n",
            " 21  Enclosure                 412364 non-null  object        \n",
            " 22  Forks                     197715 non-null  object        \n",
            " 23  Pad_Type                  81096 non-null   object        \n",
            " 24  Ride_Control              152728 non-null  object        \n",
            " 25  Stick                     81096 non-null   object        \n",
            " 26  Transmission              188007 non-null  object        \n",
            " 27  Turbocharged              81096 non-null   object        \n",
            " 28  Blade_Extension           25983 non-null   object        \n",
            " 29  Blade_Width               25983 non-null   object        \n",
            " 30  Enclosure_Type            25983 non-null   object        \n",
            " 31  Engine_Horsepower         25983 non-null   object        \n",
            " 32  Hydraulics                330133 non-null  object        \n",
            " 33  Pushblock                 25983 non-null   object        \n",
            " 34  Ripper                    106945 non-null  object        \n",
            " 35  Scarifier                 25994 non-null   object        \n",
            " 36  Tip_Control               25983 non-null   object        \n",
            " 37  Tire_Size                 97638 non-null   object        \n",
            " 38  Coupler                   220679 non-null  object        \n",
            " 39  Coupler_System            44974 non-null   object        \n",
            " 40  Grouser_Tracks            44875 non-null   object        \n",
            " 41  Hydraulics_Flow           44875 non-null   object        \n",
            " 42  Track_Type                102193 non-null  object        \n",
            " 43  Undercarriage_Pad_Width   102916 non-null  object        \n",
            " 44  Stick_Length              102261 non-null  object        \n",
            " 45  Thumb                     102332 non-null  object        \n",
            " 46  Pattern_Changer           102261 non-null  object        \n",
            " 47  Grouser_Type              102193 non-null  object        \n",
            " 48  Backhoe_Mounting          80712 non-null   object        \n",
            " 49  Blade_Type                81875 non-null   object        \n",
            " 50  Travel_Controls           81877 non-null   object        \n",
            " 51  Differential_Type         71564 non-null   object        \n",
            " 52  Steering_Controls         71522 non-null   object        \n",
            "dtypes: datetime64[ns](1), float64(3), int64(5), object(44)\n",
            "memory usage: 166.9+ MB\n"
          ]
        }
      ],
      "source": [
        "import os\n",
        "\n",
        "# Ensure the file path is correct and the file exists at the specified location\n",
        "df = pd.read_csv(filepath_or_buffer=\"../data/raw/bluebook-for-bulldozers/TrainAndValid.csv\",\n",
        "                 low_memory=False, # set low_memory=False to prevent mixed data types warning \n",
        "                 parse_dates=[\"saledate\"]) # can use the parse_dates parameter and specify which column to treat as a date column\n",
        "\n",
        "# With parse_dates... check dtype of \"saledate\"\n",
        "df.info()\n",
        "# Make a copy of the original DataFrame to perform edits on\n",
        "df_tmp = df.copy()\n",
        "\n",
        "# Save the copy to the processed folder\n",
        "processed_file_path = \"C:\\\\Users\\\\blign\\\\Dropbox\\\\1 PROJECT\\\\VS Code Project Respository\\\\About-BulldozerPriceGenius-_BPG-_v2\\\\data\\\\processed\\\\TrainAndValid_processed.csv\"\n",
        "df_tmp.to_csv(processed_file_path, index=False)\n",
        "\n"
      ]
    },
    {
      "cell_type": "markdown",
      "metadata": {},
      "source": [
        "## File Existence Verification\n",
        "\n",
        "This code block performs a crucial check to ensure data availability and prevent potential errors:\n",
        "\n",
        "- Imports the 'os' module for file system operations\n",
        "- Defines the exact path to our processed dataset using a raw string (r\"...\")\n",
        "- Uses os.path.exists() to verify if the file is present at the specified location\n",
        "- Provides clear feedback about whether the file was found or not"
      ]
    },
    {
      "cell_type": "code",
      "execution_count": 120,
      "metadata": {},
      "outputs": [
        {
          "name": "stdout",
          "output_type": "stream",
          "text": [
            "File exists.\n"
          ]
        }
      ],
      "source": [
        "import os\n",
        "\n",
        "file_path = r\"C:\\Users\\blign\\Dropbox\\1 PROJECT\\VS Code Project Respository\\About-BulldozerPriceGenius-_BPG-_v2\\data\\processed\\TrainAndValid_processed.csv\"\n",
        "\n",
        "if os.path.exists(file_path):\n",
        "    print(\"File exists.\")\n",
        "else:\n",
        "    print(\"File does not exist.\")"
      ]
    },
    {
      "cell_type": "markdown",
      "metadata": {},
      "source": [
        "## Breaking Down Sales Dates into Useful Information\n",
        "\n",
        "This code takes the sale dates in our bulldozer dataset and breaks them down into useful pieces:\n",
        "\n",
        "### Data Loading\n",
        "\n",
        "- Reading a processed CSV file containing bulldozer sales data\n",
        "\n",
        "### Date Component Extraction\n",
        "\n",
        "- Breaking down the sale date into its basic parts, such as:\n",
        "    - Year of sale\n",
        "    - Month of sale\n",
        "    - Day of sale\n",
        "    - Day of the week\n",
        "    - Day of the year\n",
        "\n",
        "### Data Processing\n",
        "\n",
        "- Deleting the original date column since we already created the separate date components we need\n",
        "- Storing the improved dataset in the same folder where we keep our processed files\n",
        "\n",
        "### Purpose\n",
        "\n",
        "- Breaks down sales dates into meaningful components:\n",
        "    - Year, month, and day\n",
        "    - Day of week and day of year\n",
        "- Helps model identify price patterns:\n",
        "    - More granular time analysis\n",
        "    - Better pattern recognition\n",
        "- Ensures data integrity:\n",
        "    - Verifies file locations\n",
        "    - Handles potential errors"
      ]
    },
    {
      "cell_type": "code",
      "execution_count": 121,
      "metadata": {},
      "outputs": [
        {
          "name": "stderr",
          "output_type": "stream",
          "text": [
            "C:\\Users\\blign\\AppData\\Local\\Temp\\ipykernel_22568\\1163400766.py:10: DtypeWarning: Columns (13,39,40,41) have mixed types. Specify dtype option on import or set low_memory=False.\n",
            "  df_tmp = pd.read_csv(file_path, parse_dates=['saledate'])\n"
          ]
        },
        {
          "name": "stdout",
          "output_type": "stream",
          "text": [
            "File processed successfully\n"
          ]
        }
      ],
      "source": [
        "import pandas as pd\n",
        "import os\n",
        "\n",
        "# Define file path\n",
        "file_path = r\"C:\\Users\\blign\\Dropbox\\1 PROJECT\\VS Code Project Respository\\About-BulldozerPriceGenius-_BPG-_v2\\data\\processed\\TrainAndValid_processed.csv\"\n",
        "\n",
        "# Verify file exists\n",
        "if os.path.exists(file_path):\n",
        "    # Read the CSV file\n",
        "    df_tmp = pd.read_csv(file_path, parse_dates=['saledate'])\n",
        "    \n",
        "    # Add datetime parameters for saledate\n",
        "    df_tmp[\"saleYear\"] = df_tmp.saledate.dt.year\n",
        "    df_tmp[\"saleMonth\"] = df_tmp.saledate.dt.month\n",
        "    df_tmp[\"saleDay\"] = df_tmp.saledate.dt.day\n",
        "    df_tmp[\"saleDayofweek\"] = df_tmp.saledate.dt.dayofweek\n",
        "    df_tmp[\"saleDayofyear\"] = df_tmp.saledate.dt.dayofyear\n",
        "    \n",
        "    # Drop original saledate column\n",
        "    df_tmp.drop(\"saledate\", axis=1, inplace=True)\n",
        "    \n",
        "    # Save the modified DataFrame back to CSV\n",
        "    df_tmp.to_csv(file_path, index=False)\n",
        "    print(\"File processed successfully\")\n",
        "else:\n",
        "    print(\"File does not exist\")\n"
      ]
    },
    {
      "cell_type": "markdown",
      "metadata": {},
      "source": [
        "## Viewing Date Feature Columns\n",
        "\n",
        "This code shows us a preview of our new date columns along with the SalePrice. This helps us check if we correctly created our new date features by displaying them in a table.\n",
        "\n",
        "- The original SalePrice column for reference\n",
        "- All new date-based columns we created:\n",
        "    - Year, month, and day of sale\n",
        "    - Day of week and day of year"
      ]
    },
    {
      "cell_type": "code",
      "execution_count": 122,
      "metadata": {},
      "outputs": [
        {
          "data": {
            "text/html": [
              "<div>\n",
              "<style scoped>\n",
              "    .dataframe tbody tr th:only-of-type {\n",
              "        vertical-align: middle;\n",
              "    }\n",
              "\n",
              "    .dataframe tbody tr th {\n",
              "        vertical-align: top;\n",
              "    }\n",
              "\n",
              "    .dataframe thead th {\n",
              "        text-align: right;\n",
              "    }\n",
              "</style>\n",
              "<table border=\"1\" class=\"dataframe\">\n",
              "  <thead>\n",
              "    <tr style=\"text-align: right;\">\n",
              "      <th></th>\n",
              "      <th>SalePrice</th>\n",
              "      <th>saleYear</th>\n",
              "      <th>saleMonth</th>\n",
              "      <th>saleDay</th>\n",
              "      <th>saleDayofweek</th>\n",
              "      <th>saleDayofyear</th>\n",
              "    </tr>\n",
              "  </thead>\n",
              "  <tbody>\n",
              "    <tr>\n",
              "      <th>0</th>\n",
              "      <td>66000.0</td>\n",
              "      <td>2006</td>\n",
              "      <td>11</td>\n",
              "      <td>16</td>\n",
              "      <td>3</td>\n",
              "      <td>320</td>\n",
              "    </tr>\n",
              "    <tr>\n",
              "      <th>1</th>\n",
              "      <td>57000.0</td>\n",
              "      <td>2004</td>\n",
              "      <td>3</td>\n",
              "      <td>26</td>\n",
              "      <td>4</td>\n",
              "      <td>86</td>\n",
              "    </tr>\n",
              "    <tr>\n",
              "      <th>2</th>\n",
              "      <td>10000.0</td>\n",
              "      <td>2004</td>\n",
              "      <td>2</td>\n",
              "      <td>26</td>\n",
              "      <td>3</td>\n",
              "      <td>57</td>\n",
              "    </tr>\n",
              "    <tr>\n",
              "      <th>3</th>\n",
              "      <td>38500.0</td>\n",
              "      <td>2011</td>\n",
              "      <td>5</td>\n",
              "      <td>19</td>\n",
              "      <td>3</td>\n",
              "      <td>139</td>\n",
              "    </tr>\n",
              "    <tr>\n",
              "      <th>4</th>\n",
              "      <td>11000.0</td>\n",
              "      <td>2009</td>\n",
              "      <td>7</td>\n",
              "      <td>23</td>\n",
              "      <td>3</td>\n",
              "      <td>204</td>\n",
              "    </tr>\n",
              "  </tbody>\n",
              "</table>\n",
              "</div>"
            ],
            "text/plain": [
              "   SalePrice  saleYear  saleMonth  saleDay  saleDayofweek  saleDayofyear\n",
              "0    66000.0      2006         11       16              3            320\n",
              "1    57000.0      2004          3       26              4             86\n",
              "2    10000.0      2004          2       26              3             57\n",
              "3    38500.0      2011          5       19              3            139\n",
              "4    11000.0      2009          7       23              3            204"
            ]
          },
          "execution_count": 122,
          "metadata": {},
          "output_type": "execute_result"
        }
      ],
      "source": [
        "# View newly created columns\n",
        "df_tmp[[\"SalePrice\", \"saleYear\", \"saleMonth\", \"saleDay\", \"saleDayofweek\", \"saleDayofyear\"]].head()"
      ]
    },
    {
      "cell_type": "markdown",
      "metadata": {},
      "source": [
        "## Visualizing Sale Price Distribution by Month\n",
        "\n",
        "Here are the key points about the scatter plot visualization:\n",
        "- Creates a visualization of sale prices vs. months\n",
        "- Uses a sample of 10,000 data points to maintain clarity and prevent overcrowding\n",
        "- Helps identify seasonal patterns and trends in bulldozer prices throughout the year"
      ]
    },
    {
      "cell_type": "code",
      "execution_count": 123,
      "metadata": {},
      "outputs": [
        {
          "data": {
            "image/png": "[encoded data removed]",
            "text/plain": [
              "<Figure size 640x480 with 1 Axes>"
            ]
          },
          "metadata": {},
          "output_type": "display_data"
        }
      ],
      "source": [
        "# View 10,000 samples SalePrice against saleMonth\n",
        "fig, ax = plt.subplots()\n",
        "ax.scatter(x=df_tmp[\"saleMonth\"][:10000], # visualize the first 10000 values\n",
        "           y=df_tmp[\"SalePrice\"][:10000])\n",
        "ax.set_xlabel(\"Sale Month\")\n",
        "ax.set_ylabel(\"Sale Price ($)\");"
      ]
    },
    {
      "cell_type": "markdown",
      "metadata": {},
      "source": [
        "## Visualizing Monthly Price Trends\n",
        "\n",
        "This code makes a graph that shows typical bulldozer prices for each month. We look at the average price per month to:\n",
        "\n",
        "- Identify seasonal pricing patterns\n",
        "    - Spot months with typically higher or lower prices\n",
        "    - Help buyers and sellers make more informed decisions"
      ]
    },
    {
      "cell_type": "code",
      "execution_count": 124,
      "metadata": {},
      "outputs": [
        {
          "data": {
            "image/png": "[encoded data removed]",
            "text/plain": [
              "<Figure size 640x480 with 1 Axes>"
            ]
          },
          "metadata": {},
          "output_type": "display_data"
        }
      ],
      "source": [
        "# Group DataFrame by saleMonth and then find the median SalePrice\n",
        "df_tmp.groupby([\"saleMonth\"])[\"SalePrice\"].median().plot()\n",
        "plt.xlabel(\"Month\")\n",
        "plt.ylabel(\"Median Sale Price ($)\");"
      ]
    },
    {
      "cell_type": "markdown",
      "metadata": {},
      "source": [
        "## Analyzing State Distribution\n",
        "\n",
        "This code looks at how many bulldozers were sold in different states. We count the sales for each state and show the top 50. This information tells us:\n",
        "\n",
        "- Which states sell the most bulldozers\n",
        "- Which regions have the biggest markets"
      ]
    },
    {
      "cell_type": "code",
      "execution_count": 125,
      "metadata": {},
      "outputs": [
        {
          "data": {
            "text/plain": [
              "state\n",
              "Florida           67320\n",
              "Texas             53110\n",
              "California        29761\n",
              "Washington        16222\n",
              "Georgia           14633\n",
              "Maryland          13322\n",
              "Mississippi       13240\n",
              "Ohio              12369\n",
              "Illinois          11540\n",
              "Colorado          11529\n",
              "New Jersey        11156\n",
              "North Carolina    10636\n",
              "Tennessee         10298\n",
              "Alabama           10292\n",
              "Pennsylvania      10234\n",
              "South Carolina     9951\n",
              "Arizona            9364\n",
              "New York           8639\n",
              "Connecticut        8276\n",
              "Minnesota          7885\n",
              "Missouri           7178\n",
              "Nevada             6932\n",
              "Louisiana          6627\n",
              "Kentucky           5351\n",
              "Maine              5096\n",
              "Indiana            4124\n",
              "Arkansas           3933\n",
              "New Mexico         3631\n",
              "Utah               3046\n",
              "Unspecified        2801\n",
              "Wisconsin          2745\n",
              "New Hampshire      2738\n",
              "Virginia           2353\n",
              "Idaho              2025\n",
              "Oregon             1911\n",
              "Michigan           1831\n",
              "Wyoming            1672\n",
              "Iowa               1336\n",
              "Montana            1336\n",
              "Oklahoma           1326\n",
              "Nebraska            866\n",
              "West Virginia       840\n",
              "Kansas              667\n",
              "Delaware            510\n",
              "North Dakota        480\n",
              "Alaska              430\n",
              "Massachusetts       347\n",
              "Vermont             300\n",
              "South Dakota        244\n",
              "Hawaii              118\n",
              "Name: count, dtype: int64"
            ]
          },
          "execution_count": 125,
          "metadata": {},
          "output_type": "execute_result"
        }
      ],
      "source": [
        "# Check the different values of different columns\n",
        "df_tmp.state.value_counts()[:50]"
      ]
    },
    {
      "cell_type": "markdown",
      "metadata": {},
      "source": [
        "## Visualizing Median Bulldozer Prices Across States\n",
        "\n",
        "This code makes a chart that shows how bulldozer prices differ from state to state. It helps us see:\n",
        "\n",
        "- What the chart shows:\n",
        "    - The typical (median) price of bulldozers in each state\n",
        "    - A red dotted line showing the typical price across all states\n",
        "- What we can learn:\n",
        "    - Which states have more expensive or cheaper bulldozers\n",
        "    - How each state's prices compare to the country's average"
      ]
    },
    {
      "cell_type": "code",
      "execution_count": 126,
      "metadata": {},
      "outputs": [
        {
          "data": {
            "image/png": "[encoded data removed]",
            "text/plain": [
              "<Figure size 1000x700 with 1 Axes>"
            ]
          },
          "metadata": {},
          "output_type": "display_data"
        }
      ],
      "source": [
        "# Group DataFrame by saleMonth and then find the median SalePrice per state as well as across the whole dataset\n",
        "median_prices_by_state = df_tmp.groupby([\"state\"])[\"SalePrice\"].median() # this will return a pandas Series rather than a DataFrame\n",
        "median_sale_price = df_tmp[\"SalePrice\"].median()\n",
        "\n",
        "# Create a plot comparing median sale price per state to median sale price overall\n",
        "plt.figure(figsize=(10, 7))\n",
        "plt.bar(x=median_prices_by_state.index, # Because we're working with a Series, we can use the index (state names) as the x values\n",
        "        height=median_prices_by_state.values)\n",
        "plt.xlabel(\"State\")\n",
        "plt.ylabel(\"Median Sale Price ($)\")\n",
        "plt.xticks(rotation=90, fontsize=7);\n",
        "plt.axhline(y=median_sale_price, \n",
        "            color=\"red\", \n",
        "            linestyle=\"--\", \n",
        "            label=f\"Median Sale Price: ${median_sale_price:,.0f}\")\n",
        "plt.legend();"
      ]
    },
    {
      "cell_type": "markdown",
      "metadata": {},
      "source": [
        "# **Saving Processed Data to CSV**\n",
        "\n",
        "This code saves our processed bulldozer data to a file. Here's what it does:\n",
        "\n",
        "- Main Goal:\n",
        "    - Saves our bulldozer data into a CSV file (a type of spreadsheet)\n",
        "    - Makes sure our data is saved correctly without errors\n",
        "- How it works:\n",
        "    - Checks for any problems while saving the file\n",
        "    - Tells us if the save was successful or if there was an error\n",
        "    - Keeps the file clean by not adding extra row numbers"
      ]
    },
    {
      "cell_type": "code",
      "execution_count": 127,
      "metadata": {},
      "outputs": [
        {
          "name": "stdout",
          "output_type": "stream",
          "text": [
            "Changes successfully saved to TrainAndValid_processed.csv\n"
          ]
        }
      ],
      "source": [
        "import pandas as pd\n",
        "\n",
        "# Assuming df is your DataFrame with the processed data\n",
        "# df = ...\n",
        "\n",
        "try:\n",
        "    df.to_csv('TrainAndValid_processed.csv', index=False)\n",
        "    print(\"Changes successfully saved to TrainAndValid_processed.csv\")\n",
        "except Exception as e:\n",
        "    print(f\"An error occurred while saving the changes: {e}\")"
      ]
    },
    {
      "cell_type": "markdown",
      "metadata": {},
      "source": [
        "# **Conclusion and Next Steps**\n",
        "## Overview\n",
        "\n",
        "In this notebook, we worked on making our dataset better by adding new useful information. This will help our machine learning model make better predictions about bulldozer prices. Here's what we did:\n",
        "\n",
        "### Feature Creation\n",
        "\n",
        "- **Feature Creation**: We successfully engineered several new features, including:\n",
        "    - **Bulldozer Age**: We found out how old each bulldozer was by looking at when it was made and when it was sold.\n",
        "    - **Usage Information**: We looked at how much each bulldozer was used based on its working hours and similar data\n",
        "    - **Number and Text Conversions**: Changed information like model names and categories into numbers that our machine learning model can work with better\n",
        "\n",
        "### Data Processing\n",
        "\n",
        "- **Feature Selection**: We looked at how useful each piece of data was by checking how it relates to bulldozer prices and testing it in simple models.\n",
        "- **Data Transformation**:  Changed the data into a format that our machine learning model can better understand. This included adjusting numbers to be on similar scales and converting text data into numbers.\n",
        "\n",
        "### Results\n",
        "\n",
        "These steps have laid a solid foundation for building a robust predictive model by ensuring that the dataset is rich with relevant and informative features.\n",
        "\n",
        "## Next Steps\n",
        "- `03_exploratory_data_analysis.ipynb:` This notebook will contain the exploratory data analysis (EDA), including visualizing data distributions, relationships between variables, and identifying patterns.\n",
        "\n"
      ]
    },
    {
      "cell_type": "markdown",
      "metadata": {
        "id": "ZY3l0-AxO93d"
      },
      "source": [
        "---"
      ]
    }
  ],
  "metadata": {
    "accelerator": "GPU",
    "colab": {
      "name": "Data Practitioner Jupyter Notebook.ipynb",
      "provenance": [],
      "toc_visible": true
    },
    "kernelspec": {
      "display_name": "env",
      "language": "python",
      "name": "python3"
    },
    "language_info": {
      "codemirror_mode": {
        "name": "ipython",
        "version": 3
      },
      "file_extension": ".py",
      "mimetype": "text/x-python",
      "name": "python",
      "nbconvert_exporter": "python",
      "pygments_lexer": "ipython3",
      "version": "3.12.8"
    },
    "orig_nbformat": 2
  },
  "nbformat": 4,
  "nbformat_minor": 2
}
