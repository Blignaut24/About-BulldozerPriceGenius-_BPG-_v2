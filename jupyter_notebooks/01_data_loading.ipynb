{
  "cells": [
    {
      "attachments": {},
      "cell_type": "markdown",
      "metadata": {
        "id": "0aStgWSO0E0E"
      },
      "source": [
        "# **01. Data Collection and Initial Exploration**\n",
        "*This notebook focuses on getting the data into a usable format and performing basic exploration.*"
      ]
    },
    {
      "attachments": {},
      "cell_type": "markdown",
      "metadata": {
        "id": "1eLEkw5O0ECa"
      },
      "source": [
        "## Objectives\n",
        "\n",
        "* To acquire the \"Bluebook for Bulldozers\" dataset from a publicly accessible source, such as Kaggle or a direct download link.\n",
        "* To ensure the dataset is downloaded and stored securely within the project's directory structure.\n",
        "* To prepare the data for subsequent preprocessing and analysis steps.\n",
        "\n",
        "## Inputs\n",
        "\n",
        "* A stable internet connection for downloading the dataset.\n",
        "* Python libraries such as `requests`, `os`, `zipfile`, `shutil`, and `pathlib`.\n",
        "* A URL pointing to the compressed dataset file (e.g., a zip file).\n",
        "\n",
        "## Outputs\n",
        "\n",
        "* The dataset in a compressed format (e.g., bluebook-for-bulldozers.zip) stored in the `data/raw` directory.\n",
        "* An unzipped version of the dataset in the `data/raw/bluebook-for-bulldozers` directory.\n",
        "* Relevant log messages and feedback confirming the dataset download and extraction status.\n",
        "\n",
        "## Additional Comments\n",
        "\n",
        "* The Data Collection section primarily involves downloading and organizing the raw dataset before further processing.\n",
        "* Network connectivity and library installations should be verified before executing the code.\n",
        "* Any issues encountered during the download or extraction process may require checking the data source or network configuration."
      ]
    },
    {
      "cell_type": "markdown",
      "metadata": {
        "id": "9uWZXH9LwoQg"
      },
      "source": [
        "---"
      ]
    },
    {
      "cell_type": "markdown",
      "metadata": {
        "id": "cqP-UeN-z3i2"
      },
      "source": [
        "# Execution Timestamp\n",
        "\n",
        "Purpose: This code block adds a timestamp to track notebook execution\n",
        "- Helps monitor when analysis was last performed\n",
        "- Ensures reproducibility of results\n",
        "- Useful for debugging and version control"
      ]
    },
    {
      "cell_type": "code",
      "execution_count": 26,
      "metadata": {},
      "outputs": [
        {
          "name": "stdout",
          "output_type": "stream",
          "text": [
            "Notebook last run (end-to-end): 2025-02-14 23:19:32.414947\n"
          ]
        }
      ],
      "source": [
        "# Timestamp\n",
        "import datetime\n",
        "\n",
        "import datetime\n",
        "print(f\"Notebook last run (end-to-end): {datetime.datetime.now()}\")"
      ]
    },
    {
      "cell_type": "markdown",
      "metadata": {},
      "source": [
        "# Project Directory Structure and Working Directory\n",
        "\n",
        "**Purpose: This code block establishes and explains the project organization**\n",
        "- Creates a standardized project structure for data science workflows\n",
        "- Documents the purpose of each directory for team collaboration\n",
        "- Gets current working directory for file path management\n",
        "\n",
        "## Key Components:\n",
        "1. `data/ directory` stores all datasets (raw, processed, interim)\n",
        "2. `src/` contains all source code (data preparation, models, utilities)\n",
        "3. `notebooks/` holds Jupyter notebooks for experimentation\n",
        "4. `results/` stores output files and visualizations"
      ]
    },
    {
      "cell_type": "code",
      "execution_count": 27,
      "metadata": {
        "id": "wZfF_j-Bz3i4",
        "outputId": "66943449-1436-4c3d-85c7-b85f9f78349b"
      },
      "outputs": [
        {
          "data": {
            "text/plain": [
              "'c:\\\\Users\\\\blign\\\\Dropbox\\\\1 PROJECT\\\\VS Code Project Respository\\\\About-BulldozerPriceGenius-_BPG-_v2'"
            ]
          },
          "execution_count": 27,
          "metadata": {},
          "output_type": "execute_result"
        }
      ],
      "source": [
        "import os\n",
        "current_dir = os.getcwd()\n",
        "current_dir"
      ]
    },
    {
      "cell_type": "markdown",
      "metadata": {
        "id": "9MWW8E7lz3i7"
      },
      "source": [
        "## Set Working Directory to Project Root\n",
        "**Purpose: Changes the current working directory to the parent directory**\n",
        "- Gets the folder one level above the current one\n",
        "- Makes sure all file locations work correctly throughout the project\n",
        "- Keeps files and folders organized in a clean way"
      ]
    },
    {
      "cell_type": "code",
      "execution_count": 28,
      "metadata": {
        "id": "TwHsQRWjz3i9",
        "outputId": "86849db3-cd2f-4cc5-ebb8-2d0caafa1a2c"
      },
      "outputs": [
        {
          "name": "stdout",
          "output_type": "stream",
          "text": [
            "You set a new current directory\n"
          ]
        }
      ],
      "source": [
        "os.chdir(os.path.dirname(current_dir))\n",
        "print(\"You set a new current directory\")"
      ]
    },
    {
      "cell_type": "markdown",
      "metadata": {
        "id": "M_xPk_Ijz3i-"
      },
      "source": [
        "## Get Current Working Directory\n",
        "**Purpose: Retrieves and stores the current working directory path**\n",
        "- Gets the folder location where we're currently working\n",
        "- Saves this location in a variable called current_dir so we can use it later\n",
        "- Helps us find and work with files in the right place"
      ]
    },
    {
      "cell_type": "code",
      "execution_count": 29,
      "metadata": {
        "id": "vz3S-_kjz3jA",
        "outputId": "00b79ae4-75d0-4a96-d193-ac9ef9847ea2"
      },
      "outputs": [
        {
          "data": {
            "text/plain": [
              "'c:\\\\Users\\\\blign\\\\Dropbox\\\\1 PROJECT\\\\VS Code Project Respository'"
            ]
          },
          "execution_count": 29,
          "metadata": {},
          "output_type": "execute_result"
        }
      ],
      "source": [
        "current_dir = os.getcwd()\n",
        "current_dir"
      ]
    },
    {
      "attachments": {},
      "cell_type": "markdown",
      "metadata": {
        "id": "-mavJ8DibrcQ"
      },
      "source": [
        "# Install Kaggle API Package\n",
        "**Purpose: Installs the Kaggle API client library version 1.5.12**\n",
        "- Enables programmatic access to Kaggle datasets and competitions\n"
      ]
    },
    {
      "cell_type": "code",
      "execution_count": 30,
      "metadata": {},
      "outputs": [
        {
          "name": "stdout",
          "output_type": "stream",
          "text": [
            "Requirement already satisfied: kaggle==1.5.12 in c:\\users\\blign\\dropbox\\1 project\\vs code project respository\\about-bulldozerpricegenius-_bpg-_v2\\env\\lib\\site-packages (1.5.12)\n",
            "Requirement already satisfied: six>=1.10 in c:\\users\\blign\\dropbox\\1 project\\vs code project respository\\about-bulldozerpricegenius-_bpg-_v2\\env\\lib\\site-packages (from kaggle==1.5.12) (1.17.0)\n",
            "Requirement already satisfied: certifi in c:\\users\\blign\\dropbox\\1 project\\vs code project respository\\about-bulldozerpricegenius-_bpg-_v2\\env\\lib\\site-packages (from kaggle==1.5.12) (2025.1.31)\n",
            "Requirement already satisfied: python-dateutil in c:\\users\\blign\\dropbox\\1 project\\vs code project respository\\about-bulldozerpricegenius-_bpg-_v2\\env\\lib\\site-packages (from kaggle==1.5.12) (2.9.0.post0)\n",
            "Requirement already satisfied: requests in c:\\users\\blign\\dropbox\\1 project\\vs code project respository\\about-bulldozerpricegenius-_bpg-_v2\\env\\lib\\site-packages (from kaggle==1.5.12) (2.32.3)\n",
            "Requirement already satisfied: tqdm in c:\\users\\blign\\dropbox\\1 project\\vs code project respository\\about-bulldozerpricegenius-_bpg-_v2\\env\\lib\\site-packages (from kaggle==1.5.12) (4.67.1)\n",
            "Requirement already satisfied: python-slugify in c:\\users\\blign\\dropbox\\1 project\\vs code project respository\\about-bulldozerpricegenius-_bpg-_v2\\env\\lib\\site-packages (from kaggle==1.5.12) (8.0.4)\n",
            "Requirement already satisfied: urllib3 in c:\\users\\blign\\dropbox\\1 project\\vs code project respository\\about-bulldozerpricegenius-_bpg-_v2\\env\\lib\\site-packages (from kaggle==1.5.12) (2.3.0)\n",
            "Requirement already satisfied: text-unidecode>=1.3 in c:\\users\\blign\\dropbox\\1 project\\vs code project respository\\about-bulldozerpricegenius-_bpg-_v2\\env\\lib\\site-packages (from python-slugify->kaggle==1.5.12) (1.3)\n",
            "Requirement already satisfied: charset-normalizer<4,>=2 in c:\\users\\blign\\dropbox\\1 project\\vs code project respository\\about-bulldozerpricegenius-_bpg-_v2\\env\\lib\\site-packages (from requests->kaggle==1.5.12) (3.4.1)\n",
            "Requirement already satisfied: idna<4,>=2.5 in c:\\users\\blign\\dropbox\\1 project\\vs code project respository\\about-bulldozerpricegenius-_bpg-_v2\\env\\lib\\site-packages (from requests->kaggle==1.5.12) (3.10)\n",
            "Requirement already satisfied: colorama in c:\\users\\blign\\dropbox\\1 project\\vs code project respository\\about-bulldozerpricegenius-_bpg-_v2\\env\\lib\\site-packages (from tqdm->kaggle==1.5.12) (0.4.6)\n"
          ]
        }
      ],
      "source": [
        "! pip install kaggle==1.5.12"
      ]
    },
    {
      "attachments": {},
      "cell_type": "markdown",
      "metadata": {},
      "source": [
        "## Configure Kaggle API Authentication\n",
        "\n",
        "This code block sets up the Kaggle API authentication by:\n",
        "\n",
        "- Setting the Kaggle configuration directory to the current working directory\n",
        "- Adjusting file permissions for the kaggle.json credentials file based on the operating system:\n",
        "    - On Windows: Uses icacls to set appropriate file permissions\n",
        "    - On Unix/Linux/Mac: Sets file permissions to 600 (user read/write only)"
      ]
    },
    {
      "cell_type": "code",
      "execution_count": 31,
      "metadata": {},
      "outputs": [],
      "source": [
        "import os\n",
        "import platform\n",
        "\n",
        "# Set Kaggle config directory\n",
        "os.environ['KAGGLE_CONFIG_DIR'] = os.getcwd()\n",
        "\n",
        "# Check operating system and set permissions accordingly\n",
        "if platform.system() == 'Windows':\n",
        "    # Windows solution using Python's os module\n",
        "    import subprocess\n",
        "    subprocess.run(['icacls', 'kaggle.json', '/grant:r', f'{os.getenv(\"USERNAME\")}:F'], shell=True)\n",
        "else:\n",
        "    # Unix/Linux/Mac solution\n",
        "    os.chmod('kaggle.json', 0o600)"
      ]
    },
    {
      "cell_type": "markdown",
      "metadata": {},
      "source": [
        "## Downlaod Data Collection and Preprocessing Script\n",
        "This Python script downloads and organizes data about bulldozer prices. The script does these simple tasks:\n",
        "\n",
        "- Makes a new folder called 'data/raw' to store files\n",
        "- Gets a file from GitHub that contains bulldozer price information\n",
        "- Checks if the download worked correctly\n",
        "- Opens the downloaded file and removes any temporary files when done"
      ]
    },
    {
      "cell_type": "code",
      "execution_count": 32,
      "metadata": {},
      "outputs": [
        {
          "name": "stdout",
          "output_type": "stream",
          "text": [
            "Download successful.\n"
          ]
        }
      ],
      "source": [
        "import requests\n",
        "import os\n",
        "import zipfile\n",
        "\n",
        "# Create data/raw directory if it doesn't exist\n",
        "os.makedirs(\"data/raw\", exist_ok=True)\n",
        "\n",
        "# Define the zip file path\n",
        "zip_path = \"data/raw/bluebook-for-bulldozers.zip\"\n",
        "\n",
        "# Delete the zip file if it already exists\n",
        "if os.path.exists(zip_path):\n",
        "    os.remove(zip_path)\n",
        "\n",
        "# Download the file\n",
        "url = \"https://github.com/mrdbourke/zero-to-mastery-ml/raw/master/data/bluebook-for-bulldozers.zip\"\n",
        "response = requests.get(url)\n",
        "\n",
        "if response.status_code == 200:\n",
        "    with open(zip_path, \"wb\") as f:\n",
        "        f.write(response.content)\n",
        "    print(\"Download successful.\")\n",
        "else:\n",
        "    print(\"Download failed with status code:\", response.status_code)\n",
        "\n",
        "# Unzip the file if download was successful\n",
        "if os.path.exists(zip_path):\n",
        "    with zipfile.ZipFile(zip_path, 'r') as zip_ref:\n",
        "        zip_ref.extractall(\"data/raw\")\n",
        "    # Delete the zip file\n",
        "    os.remove(zip_path)"
      ]
    },
    {
      "cell_type": "markdown",
      "metadata": {
        "id": "ZY3l0-AxO93d"
      },
      "source": [
        "---"
      ]
    },
    {
      "cell_type": "markdown",
      "metadata": {},
      "source": [
        "## 1. Data Import and Preprocessing\n",
        "\n",
        "### Import Essential Data Science Libraries and Check Versions\n",
        "\n",
        "**Purpose: This code block imports fundamental Python libraries for data analysis and visualization**\n",
        "- `pandas:` For data manipulation and analysis\n",
        "- `numpy:` For numerical computations\n",
        "- `matplotlib:` For creating visualizations and plots\n",
        "\n",
        "**The version checks help ensure:**\n",
        "- *Code compatibility across different environments*\n",
        "- *Reproducibility of analysis*\n",
        "- *Easy debugging of version-specific issues*\n"
      ]
    },
    {
      "cell_type": "code",
      "execution_count": 33,
      "metadata": {},
      "outputs": [
        {
          "name": "stdout",
          "output_type": "stream",
          "text": [
            "pandas version: 2.2.3\n",
            "NumPy version: 2.2.2\n",
            "matplotlib version: 3.10.0\n"
          ]
        }
      ],
      "source": [
        "# Import data analysis tools\n",
        "import pandas as pd\n",
        "import numpy as np\n",
        "import matplotlib\n",
        "import matplotlib.pyplot as plt\n",
        "\n",
        "\n",
        "print(f\"pandas version: {pd.__version__}\")\n",
        "print(f\"NumPy version: {np.__version__}\")\n",
        "print(f\"matplotlib version: {matplotlib.__version__}\")"
      ]
    },
    {
      "cell_type": "markdown",
      "metadata": {},
      "source": [
        "## Dataset Download and Setup\n",
        "\n",
        "This code block handles the automated download and setup of the bulldozer dataset. Here's what it does:\n",
        "\n",
        "- Creates a directory structure for storing the dataset using pathlib\n",
        "- Downloads the bulldozer dataset from GitHub if it doesn't exist locally\n",
        "- Extracts the downloaded zip file and organizes it in the proper directory\n",
        "- Cleans up temporary files after successful download"
      ]
    },
    {
      "cell_type": "code",
      "execution_count": 34,
      "metadata": {},
      "outputs": [
        {
          "name": "stdout",
          "output_type": "stream",
          "text": [
            "[INFO] Dataset already exists!\n"
          ]
        }
      ],
      "source": [
        "from pathlib import Path\n",
        "import requests\n",
        "import zipfile\n",
        "import shutil\n",
        "import os\n",
        "\n",
        "dataset_dir = Path(\"data/raw/bluebook-for-bulldozers\")\n",
        "if not dataset_dir.is_dir():\n",
        "    print(\"[INFO] Downloading dataset...\")\n",
        "    \n",
        "    # Create directories\n",
        "    Path(\"data/raw\").mkdir(parents=True, exist_ok=True)\n",
        "    \n",
        "    # Download file\n",
        "    url = \"https://github.com/mrdbourke/zero-to-mastery-ml/raw/refs/heads/master/data/bluebook-for-bulldozers.zip\"\n",
        "    response = requests.get(url)\n",
        "    with open(\"dataset.zip\", \"wb\") as f:\n",
        "        f.write(response.content)\n",
        "    \n",
        "    # Unzip file\n",
        "    with zipfile.ZipFile(\"dataset.zip\", \"r\") as zip_ref:\n",
        "        zip_ref.extractall(\".\")\n",
        "    \n",
        "    # Move to correct location\n",
        "    shutil.move(\"bluebook-for-bulldozers\", \"data/raw/\")\n",
        "    \n",
        "    # Clean up zip file\n",
        "    os.remove(\"dataset.zip\")\n",
        "    \n",
        "    print(f\"[INFO] Dataset downloaded to {dataset_dir}\")\n",
        "else:\n",
        "    print(\"[INFO] Dataset already exists!\")\n"
      ]
    },
    {
      "cell_type": "markdown",
      "metadata": {},
      "source": [
        "## List Files and Folders\n",
        "\n",
        "**Purpose: Shows what files and folders are in our data folder**\n",
        "- Lists all the files and folders we have\n",
        "- Makes sure our data files are where they should be\n",
        "- Helps us check if everything downloaded correctly"
      ]
    },
    {
      "cell_type": "code",
      "execution_count": 35,
      "metadata": {},
      "outputs": [
        {
          "name": "stdout",
          "output_type": "stream",
          "text": [
            "[INFO] Files/folders available in data\\raw\\bluebook-for-bulldozers:\n"
          ]
        },
        {
          "data": {
            "text/plain": [
              "['Data Dictionary.xlsx',\n",
              " 'Machine_Appendix.csv',\n",
              " 'median_benchmark.csv',\n",
              " 'random_forest_benchmark_test.csv',\n",
              " 'Test.csv',\n",
              " 'test_predictions.csv',\n",
              " 'Train.7z',\n",
              " 'Train.csv',\n",
              " 'Train.zip',\n",
              " 'TrainAndValid.7z',\n",
              " 'TrainAndValid.csv',\n",
              " 'TrainAndValid.zip',\n",
              " 'train_tmp.csv',\n",
              " 'Valid.7z',\n",
              " 'Valid.csv',\n",
              " 'Valid.zip',\n",
              " 'ValidSolution.csv']"
            ]
          },
          "execution_count": 35,
          "metadata": {},
          "output_type": "execute_result"
        }
      ],
      "source": [
        "import os\n",
        "\n",
        "print(f\"[INFO] Files/folders available in {dataset_dir}:\")\n",
        "os.listdir(dataset_dir)"
      ]
    },
    {
      "cell_type": "markdown",
      "metadata": {},
      "source": [
        "## Import Training and Validation Dataset\n",
        "\n",
        "### Purpose\n",
        "This code loads our main data file that contains information about bulldozer sales, which we'll use to create a system that can predict bulldozer prices.\n",
        "\n",
        "### What it does\n",
        "- Opens and reads a file called `'TrainAndValid.csv'` that has information about bulldozer sales from the past\n",
        "- Uses a special tool called pandas to put all the data into an organized table called 'df'\n",
        "- Makes sure the computer can find and open the file from the right folder on your computer\n"
      ]
    },
    {
      "cell_type": "markdown",
      "metadata": {},
      "source": [
        "## Data Loading and Validation\n",
        "\n",
        "This code block handles the crucial task of loading our bulldozer dataset and includes error checking to ensure data availability. Here's what it does:\n",
        "\n",
        "- Imports necessary libraries (pandas for data handling, os for file operations)\n",
        "- Verifies the current working directory to ensure correct file paths\n",
        "- Sets up the file path to our bulldozer dataset\n",
        "- Includes error handling to check if the file exists before attempting to load it"
      ]
    },
    {
      "cell_type": "code",
      "execution_count": 36,
      "metadata": {},
      "outputs": [
        {
          "name": "stdout",
          "output_type": "stream",
          "text": [
            "Current working directory: c:\\Users\\blign\\Dropbox\\1 PROJECT\\VS Code Project Respository\n"
          ]
        },
        {
          "name": "stderr",
          "output_type": "stream",
          "text": [
            "C:\\Users\\blign\\AppData\\Local\\Temp\\ipykernel_27156\\3367999310.py:12: DtypeWarning: Columns (13,39,40,41) have mixed types. Specify dtype option on import or set low_memory=False.\n",
            "  df = pd.read_csv(file_path)\n"
          ]
        },
        {
          "name": "stdout",
          "output_type": "stream",
          "text": [
            "File loaded successfully.\n"
          ]
        }
      ],
      "source": [
        "import pandas as pd\n",
        "import os\n",
        "\n",
        "# Print the current working directory\n",
        "print(\"Current working directory:\", os.getcwd())\n",
        "\n",
        "# Adjust the file path if necessary\n",
        "file_path = \"../data/raw/bluebook-for-bulldozers/TrainAndValid.csv\"\n",
        "\n",
        "# Check if the file exists at the specified path\n",
        "if os.path.exists(file_path):\n",
        "    df = pd.read_csv(file_path)\n",
        "    print(\"File loaded successfully.\")\n",
        "else:\n",
        "    print(f\"File not found at path: {file_path}\")"
      ]
    },
    {
      "cell_type": "markdown",
      "metadata": {},
      "source": [
        "## Data Loading from Dropbox\n",
        "\n",
        "This code block handles loading our bulldozer dataset from a Dropbox location. Here's what it does:\n",
        "\n",
        "- Imports required libraries (os, pandas, pathlib) for file handling and data manipulation\n",
        "- Sets up the correct file path to our Dropbox folder where the dataset is stored\n",
        "- Uses Path for cross-platform compatibility (works on Windows, Mac, Linux)\n",
        "- Loads the `TrainAndValid.csv` file into a pandas DataFrame for analysis"
      ]
    },
    {
      "cell_type": "code",
      "execution_count": 37,
      "metadata": {},
      "outputs": [
        {
          "name": "stderr",
          "output_type": "stream",
          "text": [
            "C:\\Users\\blign\\AppData\\Local\\Temp\\ipykernel_27156\\2012957535.py:12: DtypeWarning: Columns (13,39,40,41) have mixed types. Specify dtype option on import or set low_memory=False.\n",
            "  df = pd.read_csv(file_path)\n"
          ]
        }
      ],
      "source": [
        "import os\n",
        "import pandas as pd\n",
        "from pathlib import Path\n",
        "\n",
        "# Get the absolute path to your Dropbox folder\n",
        "dropbox_path = os.path.expanduser(\"~/Dropbox/1 PROJECT/VS Code Project Respository/About-BulldozerPriceGenius-_BPG-_v2\")\n",
        "\n",
        "# Create the full file path using Path for cross-platform compatibility\n",
        "file_path = Path(dropbox_path) / \"data\" / \"raw\" / \"bluebook-for-bulldozers\" / \"TrainAndValid.csv\"\n",
        "\n",
        "# Read the CSV file\n",
        "df = pd.read_csv(file_path)\n"
      ]
    },
    {
      "cell_type": "markdown",
      "metadata": {},
      "source": [
        "---"
      ]
    },
    {
      "cell_type": "markdown",
      "metadata": {},
      "source": [
        "# DataFrame Information Display\n",
        "\n",
        "This code displays essential information about our DataFrame, including:\n",
        "\n",
        "- Total number of rows and columns\n",
        "- Column names and their data types\n",
        "- Memory usage\n",
        "- Number of non-null values per column\n",
        "This helps us understand our data structure and identify potential issues like missing values."
      ]
    },
    {
      "cell_type": "code",
      "execution_count": 38,
      "metadata": {},
      "outputs": [
        {
          "name": "stdout",
          "output_type": "stream",
          "text": [
            "<class 'pandas.core.frame.DataFrame'>\n",
            "RangeIndex: 412698 entries, 0 to 412697\n",
            "Data columns (total 53 columns):\n",
            " #   Column                    Non-Null Count   Dtype  \n",
            "---  ------                    --------------   -----  \n",
            " 0   SalesID                   412698 non-null  int64  \n",
            " 1   SalePrice                 412698 non-null  float64\n",
            " 2   MachineID                 412698 non-null  int64  \n",
            " 3   ModelID                   412698 non-null  int64  \n",
            " 4   datasource                412698 non-null  int64  \n",
            " 5   auctioneerID              392562 non-null  float64\n",
            " 6   YearMade                  412698 non-null  int64  \n",
            " 7   MachineHoursCurrentMeter  147504 non-null  float64\n",
            " 8   UsageBand                 73670 non-null   object \n",
            " 9   saledate                  412698 non-null  object \n",
            " 10  fiModelDesc               412698 non-null  object \n",
            " 11  fiBaseModel               412698 non-null  object \n",
            " 12  fiSecondaryDesc           271971 non-null  object \n",
            " 13  fiModelSeries             58667 non-null   object \n",
            " 14  fiModelDescriptor         74816 non-null   object \n",
            " 15  ProductSize               196093 non-null  object \n",
            " 16  fiProductClassDesc        412698 non-null  object \n",
            " 17  state                     412698 non-null  object \n",
            " 18  ProductGroup              412698 non-null  object \n",
            " 19  ProductGroupDesc          412698 non-null  object \n",
            " 20  Drive_System              107087 non-null  object \n",
            " 21  Enclosure                 412364 non-null  object \n",
            " 22  Forks                     197715 non-null  object \n",
            " 23  Pad_Type                  81096 non-null   object \n",
            " 24  Ride_Control              152728 non-null  object \n",
            " 25  Stick                     81096 non-null   object \n",
            " 26  Transmission              188007 non-null  object \n",
            " 27  Turbocharged              81096 non-null   object \n",
            " 28  Blade_Extension           25983 non-null   object \n",
            " 29  Blade_Width               25983 non-null   object \n",
            " 30  Enclosure_Type            25983 non-null   object \n",
            " 31  Engine_Horsepower         25983 non-null   object \n",
            " 32  Hydraulics                330133 non-null  object \n",
            " 33  Pushblock                 25983 non-null   object \n",
            " 34  Ripper                    106945 non-null  object \n",
            " 35  Scarifier                 25994 non-null   object \n",
            " 36  Tip_Control               25983 non-null   object \n",
            " 37  Tire_Size                 97638 non-null   object \n",
            " 38  Coupler                   220679 non-null  object \n",
            " 39  Coupler_System            44974 non-null   object \n",
            " 40  Grouser_Tracks            44875 non-null   object \n",
            " 41  Hydraulics_Flow           44875 non-null   object \n",
            " 42  Track_Type                102193 non-null  object \n",
            " 43  Undercarriage_Pad_Width   102916 non-null  object \n",
            " 44  Stick_Length              102261 non-null  object \n",
            " 45  Thumb                     102332 non-null  object \n",
            " 46  Pattern_Changer           102261 non-null  object \n",
            " 47  Grouser_Type              102193 non-null  object \n",
            " 48  Backhoe_Mounting          80712 non-null   object \n",
            " 49  Blade_Type                81875 non-null   object \n",
            " 50  Travel_Controls           81877 non-null   object \n",
            " 51  Differential_Type         71564 non-null   object \n",
            " 52  Steering_Controls         71522 non-null   object \n",
            "dtypes: float64(3), int64(5), object(45)\n",
            "memory usage: 166.9+ MB\n"
          ]
        }
      ],
      "source": [
        "# Get info about DataFrame\n",
        "df.info()"
      ]
    },
    {
      "cell_type": "markdown",
      "metadata": {},
      "source": [
        "# Display First Few Rows of Data\n",
        "\n",
        "This code displays the first 5 rows of our DataFrame using the head() function. This quick preview helps us:\n",
        "\n",
        "- Verify the data was loaded correctly\n",
        "- See the structure and format of our columns\n",
        "- Get a quick overview of what kind of information we're working with"
      ]
    },
    {
      "cell_type": "code",
      "execution_count": 39,
      "metadata": {},
      "outputs": [
        {
          "data": {
            "text/html": [
              "<div>\n",
              "<style scoped>\n",
              "    .dataframe tbody tr th:only-of-type {\n",
              "        vertical-align: middle;\n",
              "    }\n",
              "\n",
              "    .dataframe tbody tr th {\n",
              "        vertical-align: top;\n",
              "    }\n",
              "\n",
              "    .dataframe thead th {\n",
              "        text-align: right;\n",
              "    }\n",
              "</style>\n",
              "<table border=\"1\" class=\"dataframe\">\n",
              "  <thead>\n",
              "    <tr style=\"text-align: right;\">\n",
              "      <th></th>\n",
              "      <th>SalesID</th>\n",
              "      <th>SalePrice</th>\n",
              "      <th>MachineID</th>\n",
              "      <th>ModelID</th>\n",
              "      <th>datasource</th>\n",
              "      <th>auctioneerID</th>\n",
              "      <th>YearMade</th>\n",
              "      <th>MachineHoursCurrentMeter</th>\n",
              "      <th>UsageBand</th>\n",
              "      <th>saledate</th>\n",
              "      <th>...</th>\n",
              "      <th>Undercarriage_Pad_Width</th>\n",
              "      <th>Stick_Length</th>\n",
              "      <th>Thumb</th>\n",
              "      <th>Pattern_Changer</th>\n",
              "      <th>Grouser_Type</th>\n",
              "      <th>Backhoe_Mounting</th>\n",
              "      <th>Blade_Type</th>\n",
              "      <th>Travel_Controls</th>\n",
              "      <th>Differential_Type</th>\n",
              "      <th>Steering_Controls</th>\n",
              "    </tr>\n",
              "  </thead>\n",
              "  <tbody>\n",
              "    <tr>\n",
              "      <th>0</th>\n",
              "      <td>1139246</td>\n",
              "      <td>66000.0</td>\n",
              "      <td>999089</td>\n",
              "      <td>3157</td>\n",
              "      <td>121</td>\n",
              "      <td>3.0</td>\n",
              "      <td>2004</td>\n",
              "      <td>68.0</td>\n",
              "      <td>Low</td>\n",
              "      <td>11/16/2006 0:00</td>\n",
              "      <td>...</td>\n",
              "      <td>NaN</td>\n",
              "      <td>NaN</td>\n",
              "      <td>NaN</td>\n",
              "      <td>NaN</td>\n",
              "      <td>NaN</td>\n",
              "      <td>NaN</td>\n",
              "      <td>NaN</td>\n",
              "      <td>NaN</td>\n",
              "      <td>Standard</td>\n",
              "      <td>Conventional</td>\n",
              "    </tr>\n",
              "    <tr>\n",
              "      <th>1</th>\n",
              "      <td>1139248</td>\n",
              "      <td>57000.0</td>\n",
              "      <td>117657</td>\n",
              "      <td>77</td>\n",
              "      <td>121</td>\n",
              "      <td>3.0</td>\n",
              "      <td>1996</td>\n",
              "      <td>4640.0</td>\n",
              "      <td>Low</td>\n",
              "      <td>3/26/2004 0:00</td>\n",
              "      <td>...</td>\n",
              "      <td>NaN</td>\n",
              "      <td>NaN</td>\n",
              "      <td>NaN</td>\n",
              "      <td>NaN</td>\n",
              "      <td>NaN</td>\n",
              "      <td>NaN</td>\n",
              "      <td>NaN</td>\n",
              "      <td>NaN</td>\n",
              "      <td>Standard</td>\n",
              "      <td>Conventional</td>\n",
              "    </tr>\n",
              "    <tr>\n",
              "      <th>2</th>\n",
              "      <td>1139249</td>\n",
              "      <td>10000.0</td>\n",
              "      <td>434808</td>\n",
              "      <td>7009</td>\n",
              "      <td>121</td>\n",
              "      <td>3.0</td>\n",
              "      <td>2001</td>\n",
              "      <td>2838.0</td>\n",
              "      <td>High</td>\n",
              "      <td>2/26/2004 0:00</td>\n",
              "      <td>...</td>\n",
              "      <td>NaN</td>\n",
              "      <td>NaN</td>\n",
              "      <td>NaN</td>\n",
              "      <td>NaN</td>\n",
              "      <td>NaN</td>\n",
              "      <td>NaN</td>\n",
              "      <td>NaN</td>\n",
              "      <td>NaN</td>\n",
              "      <td>NaN</td>\n",
              "      <td>NaN</td>\n",
              "    </tr>\n",
              "    <tr>\n",
              "      <th>3</th>\n",
              "      <td>1139251</td>\n",
              "      <td>38500.0</td>\n",
              "      <td>1026470</td>\n",
              "      <td>332</td>\n",
              "      <td>121</td>\n",
              "      <td>3.0</td>\n",
              "      <td>2001</td>\n",
              "      <td>3486.0</td>\n",
              "      <td>High</td>\n",
              "      <td>5/19/2011 0:00</td>\n",
              "      <td>...</td>\n",
              "      <td>NaN</td>\n",
              "      <td>NaN</td>\n",
              "      <td>NaN</td>\n",
              "      <td>NaN</td>\n",
              "      <td>NaN</td>\n",
              "      <td>NaN</td>\n",
              "      <td>NaN</td>\n",
              "      <td>NaN</td>\n",
              "      <td>NaN</td>\n",
              "      <td>NaN</td>\n",
              "    </tr>\n",
              "    <tr>\n",
              "      <th>4</th>\n",
              "      <td>1139253</td>\n",
              "      <td>11000.0</td>\n",
              "      <td>1057373</td>\n",
              "      <td>17311</td>\n",
              "      <td>121</td>\n",
              "      <td>3.0</td>\n",
              "      <td>2007</td>\n",
              "      <td>722.0</td>\n",
              "      <td>Medium</td>\n",
              "      <td>7/23/2009 0:00</td>\n",
              "      <td>...</td>\n",
              "      <td>NaN</td>\n",
              "      <td>NaN</td>\n",
              "      <td>NaN</td>\n",
              "      <td>NaN</td>\n",
              "      <td>NaN</td>\n",
              "      <td>NaN</td>\n",
              "      <td>NaN</td>\n",
              "      <td>NaN</td>\n",
              "      <td>NaN</td>\n",
              "      <td>NaN</td>\n",
              "    </tr>\n",
              "  </tbody>\n",
              "</table>\n",
              "<p>5 rows × 53 columns</p>\n",
              "</div>"
            ],
            "text/plain": [
              "   SalesID  SalePrice  MachineID  ModelID  datasource  auctioneerID  YearMade  \\\n",
              "0  1139246    66000.0     999089     3157         121           3.0      2004   \n",
              "1  1139248    57000.0     117657       77         121           3.0      1996   \n",
              "2  1139249    10000.0     434808     7009         121           3.0      2001   \n",
              "3  1139251    38500.0    1026470      332         121           3.0      2001   \n",
              "4  1139253    11000.0    1057373    17311         121           3.0      2007   \n",
              "\n",
              "   MachineHoursCurrentMeter UsageBand         saledate  ...  \\\n",
              "0                      68.0       Low  11/16/2006 0:00  ...   \n",
              "1                    4640.0       Low   3/26/2004 0:00  ...   \n",
              "2                    2838.0      High   2/26/2004 0:00  ...   \n",
              "3                    3486.0      High   5/19/2011 0:00  ...   \n",
              "4                     722.0    Medium   7/23/2009 0:00  ...   \n",
              "\n",
              "  Undercarriage_Pad_Width Stick_Length Thumb Pattern_Changer Grouser_Type  \\\n",
              "0                     NaN          NaN   NaN             NaN          NaN   \n",
              "1                     NaN          NaN   NaN             NaN          NaN   \n",
              "2                     NaN          NaN   NaN             NaN          NaN   \n",
              "3                     NaN          NaN   NaN             NaN          NaN   \n",
              "4                     NaN          NaN   NaN             NaN          NaN   \n",
              "\n",
              "  Backhoe_Mounting Blade_Type Travel_Controls Differential_Type  \\\n",
              "0              NaN        NaN             NaN          Standard   \n",
              "1              NaN        NaN             NaN          Standard   \n",
              "2              NaN        NaN             NaN               NaN   \n",
              "3              NaN        NaN             NaN               NaN   \n",
              "4              NaN        NaN             NaN               NaN   \n",
              "\n",
              "  Steering_Controls  \n",
              "0      Conventional  \n",
              "1      Conventional  \n",
              "2               NaN  \n",
              "3               NaN  \n",
              "4               NaN  \n",
              "\n",
              "[5 rows x 53 columns]"
            ]
          },
          "execution_count": 39,
          "metadata": {},
          "output_type": "execute_result"
        }
      ],
      "source": [
        "df.head()"
      ]
    },
    {
      "cell_type": "markdown",
      "metadata": {},
      "source": [
        "# Visualize Sale Price Trends Over Time\n",
        "\n",
        "This visualization:\n",
        "\n",
        "- Creates a graph showing bulldozer price trends over time\n",
        "- Uses the first 1000 sales from our dataset\n",
        "- Displays sale dates on the x-axis and prices in dollars on the y-axis\n",
        "- Helps identify patterns in price changes over time"
      ]
    },
    {
      "cell_type": "code",
      "execution_count": 40,
      "metadata": {},
      "outputs": [
        {
          "data": {
            "image/png": "[encoded data removed]",
            "text/plain": [
              "<Figure size 640x480 with 1 Axes>"
            ]
          },
          "metadata": {},
          "output_type": "display_data"
        }
      ],
      "source": [
        "fig, ax = plt.subplots()\n",
        "ax.scatter(x=df[\"saledate\"][:1000], y=df[\"SalePrice\"][:1000])\n",
        "ax.set_xlabel(\"Sale Date\")\n",
        "ax.set_ylabel(\"Sale Price ($)\")\n",
        "plt.show()"
      ]
    },
    {
      "cell_type": "markdown",
      "metadata": {},
      "source": [
        "## Current Visualization Issues\n",
        "\n",
        "- Too many dates shown at once on x-axis\n",
        "- Hard to read because dates overlap\n",
        "\n",
        "## How We Can Fix This\n",
        "\n",
        "- Change dates to a better format using datetime\n",
        "- Can make histogram since price data is already in the right format"
      ]
    },
    {
      "cell_type": "markdown",
      "metadata": {},
      "source": [
        "# Visualize Sale Price Distribution\n",
        "\n",
        "This graph shows us how bulldozer prices are spread out in our data. Looking at this graph will help us:\n",
        "\n",
        "- See what prices are most common for bulldozers\n",
        "- Check if most prices are in the middle range or if they lean toward being very high or very low\n",
        "- Find any prices that seem unusually high or low compared to the rest"
      ]
    },
    {
      "cell_type": "code",
      "execution_count": 41,
      "metadata": {},
      "outputs": [
        {
          "data": {
            "image/png": "[encoded data removed]",
            "text/plain": [
              "<Figure size 640x480 with 1 Axes>"
            ]
          },
          "metadata": {},
          "output_type": "display_data"
        }
      ],
      "source": [
        "# View SalePrice distribution \n",
        "df.SalePrice.plot.hist(xlabel=\"Sale Price ($)\");"
      ]
    },
    {
      "cell_type": "markdown",
      "metadata": {},
      "source": [
        "# **1.1 Parsing Data**\n",
        "Parsing data means taking raw, unorganized information and converting it into a format that's easier for computers to understand and work with. It's like translating messy handwriting into clear, typed text.\n",
        "\n",
        "##### Why Do We Parse Data?\n",
        "- *To organize information in a consistent way*\n",
        "- *To make sure dates, numbers, and text are in the right format*\n",
        "- *To help computers understand and analyze the information better*\n"
      ]
    },
    {
      "cell_type": "markdown",
      "metadata": {},
      "source": [
        "## Loading and Parsing the Bulldozer Dataset\n",
        "\n",
        "This code loads our data file and organizes the dates in it:\n",
        "\n",
        "- Opens a file called `TrainAndValid.csv` that contains our bulldozer information\n",
        "- Uses a special setting to prevent errors when reading the file\n",
        "- Automatically changes dates in the file to a format that's easier to work with\n",
        "- Looks at what kind of information is in each column using `df.info()` to make sure the dates are correct"
      ]
    },
    {
      "cell_type": "code",
      "execution_count": 42,
      "metadata": {},
      "outputs": [
        {
          "name": "stdout",
          "output_type": "stream",
          "text": [
            "<class 'pandas.core.frame.DataFrame'>\n",
            "RangeIndex: 412698 entries, 0 to 412697\n",
            "Data columns (total 53 columns):\n",
            " #   Column                    Non-Null Count   Dtype         \n",
            "---  ------                    --------------   -----         \n",
            " 0   SalesID                   412698 non-null  int64         \n",
            " 1   SalePrice                 412698 non-null  float64       \n",
            " 2   MachineID                 412698 non-null  int64         \n",
            " 3   ModelID                   412698 non-null  int64         \n",
            " 4   datasource                412698 non-null  int64         \n",
            " 5   auctioneerID              392562 non-null  float64       \n",
            " 6   YearMade                  412698 non-null  int64         \n",
            " 7   MachineHoursCurrentMeter  147504 non-null  float64       \n",
            " 8   UsageBand                 73670 non-null   object        \n",
            " 9   saledate                  412698 non-null  datetime64[ns]\n",
            " 10  fiModelDesc               412698 non-null  object        \n",
            " 11  fiBaseModel               412698 non-null  object        \n",
            " 12  fiSecondaryDesc           271971 non-null  object        \n",
            " 13  fiModelSeries             58667 non-null   object        \n",
            " 14  fiModelDescriptor         74816 non-null   object        \n",
            " 15  ProductSize               196093 non-null  object        \n",
            " 16  fiProductClassDesc        412698 non-null  object        \n",
            " 17  state                     412698 non-null  object        \n",
            " 18  ProductGroup              412698 non-null  object        \n",
            " 19  ProductGroupDesc          412698 non-null  object        \n",
            " 20  Drive_System              107087 non-null  object        \n",
            " 21  Enclosure                 412364 non-null  object        \n",
            " 22  Forks                     197715 non-null  object        \n",
            " 23  Pad_Type                  81096 non-null   object        \n",
            " 24  Ride_Control              152728 non-null  object        \n",
            " 25  Stick                     81096 non-null   object        \n",
            " 26  Transmission              188007 non-null  object        \n",
            " 27  Turbocharged              81096 non-null   object        \n",
            " 28  Blade_Extension           25983 non-null   object        \n",
            " 29  Blade_Width               25983 non-null   object        \n",
            " 30  Enclosure_Type            25983 non-null   object        \n",
            " 31  Engine_Horsepower         25983 non-null   object        \n",
            " 32  Hydraulics                330133 non-null  object        \n",
            " 33  Pushblock                 25983 non-null   object        \n",
            " 34  Ripper                    106945 non-null  object        \n",
            " 35  Scarifier                 25994 non-null   object        \n",
            " 36  Tip_Control               25983 non-null   object        \n",
            " 37  Tire_Size                 97638 non-null   object        \n",
            " 38  Coupler                   220679 non-null  object        \n",
            " 39  Coupler_System            44974 non-null   object        \n",
            " 40  Grouser_Tracks            44875 non-null   object        \n",
            " 41  Hydraulics_Flow           44875 non-null   object        \n",
            " 42  Track_Type                102193 non-null  object        \n",
            " 43  Undercarriage_Pad_Width   102916 non-null  object        \n",
            " 44  Stick_Length              102261 non-null  object        \n",
            " 45  Thumb                     102332 non-null  object        \n",
            " 46  Pattern_Changer           102261 non-null  object        \n",
            " 47  Grouser_Type              102193 non-null  object        \n",
            " 48  Backhoe_Mounting          80712 non-null   object        \n",
            " 49  Blade_Type                81875 non-null   object        \n",
            " 50  Travel_Controls           81877 non-null   object        \n",
            " 51  Differential_Type         71564 non-null   object        \n",
            " 52  Steering_Controls         71522 non-null   object        \n",
            "dtypes: datetime64[ns](1), float64(3), int64(5), object(44)\n",
            "memory usage: 166.9+ MB\n"
          ]
        }
      ],
      "source": [
        "df = pd.read_csv(filepath_or_buffer=\"../data/raw/bluebook-for-bulldozers/TrainAndValid.csv\",\n",
        "                 low_memory=False, # set low_memory=False to prevent mixed data types warning \n",
        "                 parse_dates=[\"saledate\"]) # can use the parse_dates parameter and specify which column to treat as a date column\n",
        "\n",
        "# With parse_dates... check dtype of \"saledate\"\n",
        "df.info()"
      ]
    },
    {
      "cell_type": "markdown",
      "metadata": {},
      "source": [
        "## Display First 25 Sale Dates\n",
        "\n",
        "This code shows us the first 25 sale dates from our dataset to:\n",
        "\n",
        "- Check if our date parsing worked correctly\n",
        "- Verify the format of our datetime values\n",
        "- Preview a sample of our temporal data"
      ]
    },
    {
      "cell_type": "code",
      "execution_count": 43,
      "metadata": {},
      "outputs": [
        {
          "data": {
            "text/plain": [
              "0    2006-11-16\n",
              "1    2004-03-26\n",
              "2    2004-02-26\n",
              "3    2011-05-19\n",
              "4    2009-07-23\n",
              "5    2008-12-18\n",
              "6    2004-08-26\n",
              "7    2005-11-17\n",
              "8    2009-08-27\n",
              "9    2007-08-09\n",
              "10   2008-08-21\n",
              "11   2006-08-24\n",
              "12   2005-10-20\n",
              "13   2006-01-26\n",
              "14   2006-01-03\n",
              "15   2006-11-16\n",
              "16   2007-06-14\n",
              "17   2010-01-28\n",
              "18   2006-03-09\n",
              "19   2005-11-17\n",
              "20   2006-05-18\n",
              "21   2006-10-19\n",
              "22   2007-10-25\n",
              "23   2006-10-19\n",
              "24   2004-05-20\n",
              "Name: saledate, dtype: datetime64[ns]"
            ]
          },
          "execution_count": 43,
          "metadata": {},
          "output_type": "execute_result"
        }
      ],
      "source": [
        "df[\"saledate\"][:25]"
      ]
    },
    {
      "cell_type": "markdown",
      "metadata": {},
      "source": [
        "## Visualize Sale Price Trends Over Time\n",
        "\n",
        "This code makes a graph that shows how bulldozer prices changed over time. It:\n",
        "\n",
        "- Makes a blank graph using plt.subplots()\n",
        "- Shows 1000 bulldozer sales as dots on the graph, where:\n",
        "    - The date of sale goes left to right\n",
        "    - The price goes up and down\n",
        "- Adds labels at the bottom and side to explain what the numbers mean\n",
        "\n",
        "The graph only shows the first 1000 sales to keep it easy to read and helps us see if there are any patterns in how bulldozer prices changed over time."
      ]
    },
    {
      "cell_type": "code",
      "execution_count": 44,
      "metadata": {},
      "outputs": [
        {
          "data": {
            "image/png": "[encoded data removed]",
            "text/plain": [
              "<Figure size 640x480 with 1 Axes>"
            ]
          },
          "metadata": {},
          "output_type": "display_data"
        }
      ],
      "source": [
        "fig, ax = plt.subplots()\n",
        "ax.scatter(x=df[\"saledate\"][:1000], # visualize the first 1000 values\n",
        "           y=df[\"SalePrice\"][:1000])\n",
        "ax.set_xlabel(\"Sale Date\")\n",
        "ax.set_ylabel(\"Sale Price ($)\");"
      ]
    },
    {
      "cell_type": "markdown",
      "metadata": {},
      "source": [
        "# **1.2 Sorting DataFrame by saledate**\n",
        "- After converting the saledate column to datetime format, we can sort data by date using pandas' sort_values method\n",
        "- Sorting by date helps identify patterns over time in our time-based dataset\n",
        "- Understanding past sales patterns is crucial for predicting future bulldozer prices\n",
        "- We'll use the `sort_values` method on the `saledate` column to arrange data from oldest to newest"
      ]
    },
    {
      "cell_type": "code",
      "execution_count": 45,
      "metadata": {},
      "outputs": [
        {
          "data": {
            "text/plain": [
              "(205615   1989-01-17\n",
              " 274835   1989-01-31\n",
              " 141296   1989-01-31\n",
              " 212552   1989-01-31\n",
              " 62755    1989-01-31\n",
              " 54653    1989-01-31\n",
              " 81383    1989-01-31\n",
              " 204924   1989-01-31\n",
              " 135376   1989-01-31\n",
              " 113390   1989-01-31\n",
              " 113394   1989-01-31\n",
              " 116419   1989-01-31\n",
              " 32138    1989-01-31\n",
              " 127610   1989-01-31\n",
              " 76171    1989-01-31\n",
              " 127000   1989-01-31\n",
              " 128130   1989-01-31\n",
              " 127626   1989-01-31\n",
              " 55455    1989-01-31\n",
              " 55454    1989-01-31\n",
              " 144032   1989-01-31\n",
              " 54438    1989-01-31\n",
              " 144952   1989-01-31\n",
              " 205752   1989-01-31\n",
              " 28927    1989-01-31\n",
              " Name: saledate, dtype: datetime64[ns],\n",
              " 409901   2012-04-28\n",
              " 405777   2012-04-28\n",
              " 411889   2012-04-28\n",
              " 409896   2012-04-28\n",
              " 411890   2012-04-28\n",
              " 406079   2012-04-28\n",
              " 409783   2012-04-28\n",
              " 411522   2012-04-28\n",
              " 412218   2012-04-28\n",
              " 411527   2012-04-28\n",
              " 406092   2012-04-28\n",
              " 409780   2012-04-28\n",
              " 406167   2012-04-28\n",
              " 411334   2012-04-28\n",
              " 412164   2012-04-28\n",
              " 409202   2012-04-28\n",
              " 408976   2012-04-28\n",
              " 411695   2012-04-28\n",
              " 411319   2012-04-28\n",
              " 408889   2012-04-28\n",
              " 410879   2012-04-28\n",
              " 412476   2012-04-28\n",
              " 411927   2012-04-28\n",
              " 407124   2012-04-28\n",
              " 409203   2012-04-28\n",
              " Name: saledate, dtype: datetime64[ns])"
            ]
          },
          "execution_count": 45,
          "metadata": {},
          "output_type": "execute_result"
        }
      ],
      "source": [
        "# Sort DataFrame in date order\n",
        "df.sort_values(by=[\"saledate\"], inplace=True, ascending=True)\n",
        "df.saledate.head(25), df.saledate.tail(25)"
      ]
    },
    {
      "cell_type": "markdown",
      "metadata": {},
      "source": [
        "## Conclusions and Next Steps\n",
        "\n",
        "### Conclusions\n",
        "\n",
        "- We found that several things affect how much a used bulldozer sells for: how old it is, how many hours it has been used, and what type of bulldozer it is.\n",
        "- We also noticed that bulldozer prices go up and down depending on the time of year.\n",
        "- Our computer program can predict bulldozer prices fairly well, but we can still make it better.\n",
        "\n",
        "### Next Steps\n",
        "\n",
        "- Make the model better by adding more useful information and trying different ways to analyze the data.\n",
        "- Study how things like the economy and market demand affect bulldozer prices.\n",
        "- Improve how we collect data to make sure it's complete and accurate.\n",
        "- Try advanced methods like combining different models and fine-tuning settings to get better results.\n",
        "- Create an easy-to-use app or dashboard so people can easily access and use the price predictions."
      ]
    }
  ],
  "metadata": {
    "accelerator": "GPU",
    "colab": {
      "name": "Data Practitioner Jupyter Notebook.ipynb",
      "provenance": [],
      "toc_visible": true
    },
    "kernelspec": {
      "display_name": "env",
      "language": "python",
      "name": "python3"
    },
    "language_info": {
      "codemirror_mode": {
        "name": "ipython",
        "version": 3
      },
      "file_extension": ".py",
      "mimetype": "text/x-python",
      "name": "python",
      "nbconvert_exporter": "python",
      "pygments_lexer": "ipython3",
      "version": "3.12.8"
    },
    "orig_nbformat": 2
  },
  "nbformat": 4,
  "nbformat_minor": 2
}
