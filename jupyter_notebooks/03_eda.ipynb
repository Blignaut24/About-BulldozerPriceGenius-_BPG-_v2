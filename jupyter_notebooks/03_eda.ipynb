{
  "cells": [
    {
      "cell_type": "markdown",
      "metadata": {
        "id": "0aStgWSO0E0E"
      },
      "source": [
        "# **03. Exploratory  Data Analysis**\n",
        "*This notebook will contain the exploratory data analysis (EDA), including visualizing data distributions, relationships between variables, and identifying patterns.*"
      ]
    },
    {
      "cell_type": "markdown",
      "metadata": {
        "id": "1eLEkw5O0ECa"
      },
      "source": [
        "## Objectives\n",
        "\n",
        "* Write here your notebook objective, for example, \"Fetch data from Kaggle and save as raw data\", or \"engineer features for modelling\"\n",
        "\n",
        "## Inputs\n",
        "\n",
        "* Write here which data or information you need to run the notebook \n",
        "\n",
        "## Outputs\n",
        "\n",
        "* Write here which files, code or artefacts you generate by the end of the notebook \n",
        "\n",
        "## Additional Comments\n",
        "\n",
        "* In case you have any additional comments that don't fit in the previous bullets, please state them here. \n"
      ]
    },
    {
      "cell_type": "markdown",
      "metadata": {
        "id": "9uWZXH9LwoQg"
      },
      "source": [
        "---"
      ]
    },
    {
      "cell_type": "markdown",
      "metadata": {},
      "source": [
        "# Execution Timestamp\n",
        "\n",
        "Purpose: This code block adds a timestamp to track notebook execution\n",
        "- Helps monitor when analysis was last performed\n",
        "- Ensures reproducibility of results\n",
        "- Useful for debugging and version control"
      ]
    },
    {
      "cell_type": "code",
      "execution_count": 21,
      "metadata": {},
      "outputs": [
        {
          "name": "stdout",
          "output_type": "stream",
          "text": [
            "Notebook last run (end-to-end): 2025-02-15 14:32:31.610932\n"
          ]
        }
      ],
      "source": [
        "# Timestamp\n",
        "import datetime\n",
        "\n",
        "import datetime\n",
        "print(f\"Notebook last run (end-to-end): {datetime.datetime.now()}\")"
      ]
    },
    {
      "cell_type": "markdown",
      "metadata": {},
      "source": [
        "# Project Directory Structure and Working Directory\n",
        "\n",
        "**Purpose: This code block establishes and explains the project organization**\n",
        "- Creates a standardized project structure for data science workflows\n",
        "- Documents the purpose of each directory for team collaboration\n",
        "- Gets current working directory for file path management\n",
        "\n",
        "## Key Components:\n",
        "1. `data/ directory` stores all datasets (raw, processed, interim)\n",
        "2. `src/` contains all source code (data preparation, models, utilities)\n",
        "3. `notebooks/` holds Jupyter notebooks for experimentation\n",
        "4. `results/` stores output files and visualizations\n",
        "\n",
        "## Project Root Structure\n",
        "\n",
        "- **`data/`** - Where all your datasets live\n",
        "    - `raw/` - Original, untouched data\n",
        "    - `processed/` - Cleaned and prepared data\n",
        "    - `interim/` - Temporary data files\n",
        "- **`src/`** - Your source code\n",
        "    - `data_prep/` - Code for preparing data\n",
        "    - `models/` - Your ML models\n",
        "    - `utils/` - Helper functions\n",
        "- **`notebooks/`** - Jupyter notebooks for experiments\n",
        "- **`results/`** - Model outputs and visualizations"
      ]
    },
    {
      "cell_type": "markdown",
      "metadata": {},
      "source": [
        "## Setting Up Working Directory\n",
        "This code block sets up the working environment by:\n",
        "- Changing to the project directory where our code and data files are located\n",
        "- Verifying the current working directory to ensure we're in the right place"
      ]
    },
    {
      "cell_type": "code",
      "execution_count": 22,
      "metadata": {},
      "outputs": [
        {
          "data": {
            "text/plain": [
              "'c:\\\\Users\\\\blign\\\\Dropbox\\\\1 PROJECT\\\\VS Code Project Respository\\\\About-BulldozerPriceGenius-_BPG-_v2'"
            ]
          },
          "execution_count": 22,
          "metadata": {},
          "output_type": "execute_result"
        }
      ],
      "source": [
        "import os\n",
        "\n",
        "# Move to the desired directory\n",
        "os.chdir('c:\\\\Users\\\\blign\\\\Dropbox\\\\1 PROJECT\\\\VS Code Project Respository\\\\About-BulldozerPriceGenius-_BPG-_v2')\n",
        "\n",
        "# Get the current directory to verify the change\n",
        "current_dir = os.getcwd()\n",
        "current_dir"
      ]
    },
    {
      "cell_type": "markdown",
      "metadata": {},
      "source": [
        "## Set Working Directory to Project Root\n",
        "**Purpose: Changes the current working directory to the parent directory**\n",
        "- Gets the folder one level above the current one\n",
        "- Makes sure all file locations work correctly throughout the project\n",
        "- Keeps files and folders organized in a clean way"
      ]
    },
    {
      "cell_type": "code",
      "execution_count": 23,
      "metadata": {},
      "outputs": [
        {
          "name": "stdout",
          "output_type": "stream",
          "text": [
            "You set a new current directory\n"
          ]
        }
      ],
      "source": [
        "os.chdir(os.path.dirname(current_dir))\n",
        "print(\"You set a new current directory\")"
      ]
    },
    {
      "cell_type": "markdown",
      "metadata": {},
      "source": [
        "## Get Current Working Directory\n",
        "**Purpose: Retrieves and stores the current working directory path**\n",
        "- Gets the folder location where we're currently working\n",
        "- Saves this location in a variable called current_dir so we can use it later\n",
        "- Helps us find and work with files in the right place"
      ]
    },
    {
      "cell_type": "markdown",
      "metadata": {},
      "source": [
        "# **Import Essential Data Science Libraries and Check Versions**\n",
        "\n",
        "**Purpose: This code block imports fundamental Python libraries for data analysis and visualization**\n",
        "- `pandas:` For data manipulation and analysis\n",
        "- `numpy:` For numerical computations\n",
        "- `matplotlib:` For creating visualizations and plots\n",
        "\n",
        "**The version checks help ensure:**\n",
        "- *Code compatibility across different environments*\n",
        "- *Reproducibility of analysis*\n",
        "- *Easy debugging of version-specific issues*\n"
      ]
    },
    {
      "cell_type": "code",
      "execution_count": 24,
      "metadata": {},
      "outputs": [
        {
          "name": "stdout",
          "output_type": "stream",
          "text": [
            "pandas version: 2.2.3\n",
            "NumPy version: 2.2.2\n",
            "matplotlib version: 3.10.0\n"
          ]
        }
      ],
      "source": [
        "# Import data analysis tools\n",
        "import pandas as pd\n",
        "import numpy as np\n",
        "import matplotlib\n",
        "import matplotlib.pyplot as plt\n",
        "\n",
        "\n",
        "print(f\"pandas version: {pd.__version__}\")\n",
        "print(f\"NumPy version: {np.__version__}\")\n",
        "print(f\"matplotlib version: {matplotlib.__version__}\")"
      ]
    },
    {
      "cell_type": "markdown",
      "metadata": {},
      "source": [
        "# **Model Driven Data Exploration**\n",
        "## Early Modeling Approach\n",
        "\n",
        "After preparing our data, we'll take a unique approach by starting with modeling early in our analysis. Here's why this makes sense:\n",
        "\n",
        "- We already know our target metric (RMSLE)\n",
        "- Using a model can help us understand our data better while working towards our goal\n",
        "- This approach helps us get faster results\n",
        "\n",
        "Based on our dataset size (over 100,000 examples), we'll use either a SGD Regressor or Random Forest model. We'll start with Random Forest since we're familiar with it"
      ]
    },
    {
      "cell_type": "markdown",
      "metadata": {},
      "source": [
        "## Initial Random Forest Model Attempt\n",
        "\n",
        "This code demonstrates an initial attempt to train a [Random Forest model](https://scikit-learn.org/stable/modules/generated/sklearn.ensemble.RandomForestRegressor.html) on our dataset. However, it will fail due to two key data quality issues:\n",
        "\n",
        "- Missing numerical values that need to be handled\n",
        "- Categorical variables that need to be encoded"
      ]
    },
    {
      "cell_type": "code",
      "execution_count": 25,
      "metadata": {},
      "outputs": [],
      "source": [
        "# This won't work since we've got missing numbers and categories\n",
        "# from sklearn.ensemble import RandomForestRegressor\n",
        "\n",
        "# model = RandomForestRegressor(n_jobs=-1)\n",
        "# model.fit(X=df_tmp.drop(\"SalePrice\", axis=1), # use all columns except SalePrice as X input\n",
        "#          y=df_tmp.SalePrice) # use SalePrice column as y input"
      ]
    },
    {
      "cell_type": "markdown",
      "metadata": {},
      "source": [
        "## Loading and Initial Data Inspection\n",
        "\n",
        "This code snippet performs two essential data preparation tasks:\n",
        "\n",
        "- Loads a CSV file that contains bulldozer prices\n",
        "- Performs initial data inspection by checking:\n",
        "    - File existence verification\n",
        "    - Basic dataset information including missing values and data types"
      ]
    },
    {
      "cell_type": "code",
      "execution_count": 28,
      "metadata": {},
      "outputs": [
        {
          "name": "stdout",
          "output_type": "stream",
          "text": [
            "The file 'C:/Users/blign/Dropbox/1 PROJECT/VS Code Project Respository/About-BulldozerPriceGenius-_BPG-_v2/data/processed/TrainAndValid_processed.csv' exists.\n"
          ]
        },
        {
          "name": "stderr",
          "output_type": "stream",
          "text": [
            "C:\\Users\\blign\\AppData\\Local\\Temp\\ipykernel_21244\\195247768.py:11: DtypeWarning: Columns (12,38,39,40) have mixed types. Specify dtype option on import or set low_memory=False.\n",
            "  df_tmp = pd.read_csv(file_path)\n"
          ]
        },
        {
          "name": "stdout",
          "output_type": "stream",
          "text": [
            "<class 'pandas.core.frame.DataFrame'>\n",
            "RangeIndex: 412698 entries, 0 to 412697\n",
            "Data columns (total 57 columns):\n",
            " #   Column                    Non-Null Count   Dtype  \n",
            "---  ------                    --------------   -----  \n",
            " 0   SalesID                   412698 non-null  int64  \n",
            " 1   SalePrice                 412698 non-null  float64\n",
            " 2   MachineID                 412698 non-null  int64  \n",
            " 3   ModelID                   412698 non-null  int64  \n",
            " 4   datasource                412698 non-null  int64  \n",
            " 5   auctioneerID              392562 non-null  float64\n",
            " 6   YearMade                  412698 non-null  int64  \n",
            " 7   MachineHoursCurrentMeter  147504 non-null  float64\n",
            " 8   UsageBand                 73670 non-null   object \n",
            " 9   fiModelDesc               412698 non-null  object \n",
            " 10  fiBaseModel               412698 non-null  object \n",
            " 11  fiSecondaryDesc           271971 non-null  object \n",
            " 12  fiModelSeries             58667 non-null   object \n",
            " 13  fiModelDescriptor         74816 non-null   object \n",
            " 14  ProductSize               196093 non-null  object \n",
            " 15  fiProductClassDesc        412698 non-null  object \n",
            " 16  state                     412698 non-null  object \n",
            " 17  ProductGroup              412698 non-null  object \n",
            " 18  ProductGroupDesc          412698 non-null  object \n",
            " 19  Drive_System              107087 non-null  object \n",
            " 20  Enclosure                 412364 non-null  object \n",
            " 21  Forks                     197715 non-null  object \n",
            " 22  Pad_Type                  81096 non-null   object \n",
            " 23  Ride_Control              152728 non-null  object \n",
            " 24  Stick                     81096 non-null   object \n",
            " 25  Transmission              188007 non-null  object \n",
            " 26  Turbocharged              81096 non-null   object \n",
            " 27  Blade_Extension           25983 non-null   object \n",
            " 28  Blade_Width               25983 non-null   object \n",
            " 29  Enclosure_Type            25983 non-null   object \n",
            " 30  Engine_Horsepower         25983 non-null   object \n",
            " 31  Hydraulics                330133 non-null  object \n",
            " 32  Pushblock                 25983 non-null   object \n",
            " 33  Ripper                    106945 non-null  object \n",
            " 34  Scarifier                 25994 non-null   object \n",
            " 35  Tip_Control               25983 non-null   object \n",
            " 36  Tire_Size                 97638 non-null   object \n",
            " 37  Coupler                   220679 non-null  object \n",
            " 38  Coupler_System            44974 non-null   object \n",
            " 39  Grouser_Tracks            44875 non-null   object \n",
            " 40  Hydraulics_Flow           44875 non-null   object \n",
            " 41  Track_Type                102193 non-null  object \n",
            " 42  Undercarriage_Pad_Width   102916 non-null  object \n",
            " 43  Stick_Length              102261 non-null  object \n",
            " 44  Thumb                     102332 non-null  object \n",
            " 45  Pattern_Changer           102261 non-null  object \n",
            " 46  Grouser_Type              102193 non-null  object \n",
            " 47  Backhoe_Mounting          80712 non-null   object \n",
            " 48  Blade_Type                81875 non-null   object \n",
            " 49  Travel_Controls           81877 non-null   object \n",
            " 50  Differential_Type         71564 non-null   object \n",
            " 51  Steering_Controls         71522 non-null   object \n",
            " 52  saleYear                  412698 non-null  int64  \n",
            " 53  saleMonth                 412698 non-null  int64  \n",
            " 54  saleDay                   412698 non-null  int64  \n",
            " 55  saleDayofweek             412698 non-null  int64  \n",
            " 56  saleDayofyear             412698 non-null  int64  \n",
            "dtypes: float64(3), int64(10), object(44)\n",
            "memory usage: 179.5+ MB\n"
          ]
        }
      ],
      "source": [
        "import os\n",
        "import pandas as pd\n",
        "\n",
        "# Define the file path\n",
        "file_path = \"C:/Users/blign/Dropbox/1 PROJECT/VS Code Project Respository/About-BulldozerPriceGenius-_BPG-_v2/data/processed/TrainAndValid_processed.csv\"\n",
        "\n",
        "# Check if the file exists\n",
        "if os.path.exists(file_path):\n",
        "    print(f\"The file '{file_path}' exists.\")\n",
        "    # Load the CSV file into a DataFrame\n",
        "    df_tmp = pd.read_csv(file_path)\n",
        "    # Check for missing values and different datatypes\n",
        "    df_tmp.info()\n",
        "else:\n",
        "    print(f\"The file '{file_path}' does not exist.\")"
      ]
    },
    {
      "cell_type": "markdown",
      "metadata": {},
      "source": []
    },
    {
      "cell_type": "markdown",
      "metadata": {},
      "source": [
        "## Missing Values Analysis\n",
        "This code analyzes missing data by:\n",
        "\n",
        "- Identifying empty or missing values throughout the dataset\n",
        "- Helping assess data quality\n",
        "- Providing insights for handling data gaps"
      ]
    },
    {
      "cell_type": "code",
      "execution_count": 27,
      "metadata": {},
      "outputs": [
        {
          "data": {
            "text/plain": [
              "SalesID                          0\n",
              "SalePrice                        0\n",
              "MachineID                        0\n",
              "ModelID                          0\n",
              "datasource                       0\n",
              "auctioneerID                 20136\n",
              "YearMade                         0\n",
              "MachineHoursCurrentMeter    265194\n",
              "UsageBand                   339028\n",
              "fiModelDesc                      0\n",
              "fiBaseModel                      0\n",
              "fiSecondaryDesc             140727\n",
              "fiModelSeries               354031\n",
              "fiModelDescriptor           337882\n",
              "ProductSize                 216605\n",
              "fiProductClassDesc               0\n",
              "state                            0\n",
              "ProductGroup                     0\n",
              "ProductGroupDesc                 0\n",
              "Drive_System                305611\n",
              "Enclosure                      334\n",
              "Forks                       214983\n",
              "Pad_Type                    331602\n",
              "Ride_Control                259970\n",
              "Stick                       331602\n",
              "Transmission                224691\n",
              "Turbocharged                331602\n",
              "Blade_Extension             386715\n",
              "Blade_Width                 386715\n",
              "Enclosure_Type              386715\n",
              "Engine_Horsepower           386715\n",
              "Hydraulics                   82565\n",
              "Pushblock                   386715\n",
              "Ripper                      305753\n",
              "Scarifier                   386704\n",
              "Tip_Control                 386715\n",
              "Tire_Size                   315060\n",
              "Coupler                     192019\n",
              "Coupler_System              367724\n",
              "Grouser_Tracks              367823\n",
              "Hydraulics_Flow             367823\n",
              "Track_Type                  310505\n",
              "Undercarriage_Pad_Width     309782\n",
              "Stick_Length                310437\n",
              "Thumb                       310366\n",
              "Pattern_Changer             310437\n",
              "Grouser_Type                310505\n",
              "Backhoe_Mounting            331986\n",
              "Blade_Type                  330823\n",
              "Travel_Controls             330821\n",
              "Differential_Type           341134\n",
              "Steering_Controls           341176\n",
              "saleYear                         0\n",
              "saleMonth                        0\n",
              "saleDay                          0\n",
              "saleDayofweek                    0\n",
              "saleDayofyear                    0\n",
              "dtype: int64"
            ]
          },
          "execution_count": 27,
          "metadata": {},
          "output_type": "execute_result"
        }
      ],
      "source": [
        "# Check for total missing values per column\n",
        "df_tmp.isna().sum()"
      ]
    }
  ],
  "metadata": {
    "accelerator": "GPU",
    "colab": {
      "name": "Data Practitioner Jupyter Notebook.ipynb",
      "provenance": [],
      "toc_visible": true
    },
    "kernelspec": {
      "display_name": "env",
      "language": "python",
      "name": "python3"
    },
    "language_info": {
      "codemirror_mode": {
        "name": "ipython",
        "version": 3
      },
      "file_extension": ".py",
      "mimetype": "text/x-python",
      "name": "python",
      "nbconvert_exporter": "python",
      "pygments_lexer": "ipython3",
      "version": "3.12.8"
    },
    "orig_nbformat": 2
  },
  "nbformat": 4,
  "nbformat_minor": 2
}
