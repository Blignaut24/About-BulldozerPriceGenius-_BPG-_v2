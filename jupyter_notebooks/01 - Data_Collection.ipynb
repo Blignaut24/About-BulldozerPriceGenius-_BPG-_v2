{
  "cells": [
    {
      "attachments": {},
      "cell_type": "markdown",
      "metadata": {
        "id": "0aStgWSO0E0E"
      },
      "source": [
        "# **Data Collection**"
      ]
    },
    {
      "attachments": {},
      "cell_type": "markdown",
      "metadata": {
        "id": "1eLEkw5O0ECa"
      },
      "source": [
        "## Objectives\n",
        "\n",
        "* Fetch data from Kaggle and save it as raw data.\n",
        "* Inspect the data and save it under outputs/datasets/collection\n",
        "\n",
        "## Inputs\n",
        "\n",
        "* Kaggle JSON file - the authentication token. \n",
        "\n",
        "## Outputs\n",
        "\n",
        "\n",
        "\n",
        "## Additional Comments\n",
        "\n"
      ]
    },
    {
      "cell_type": "markdown",
      "metadata": {
        "id": "9uWZXH9LwoQg"
      },
      "source": [
        "---"
      ]
    },
    {
      "cell_type": "markdown",
      "metadata": {
        "id": "cqP-UeN-z3i2"
      },
      "source": [
        "# Change working directory"
      ]
    },
    {
      "cell_type": "code",
      "execution_count": 38,
      "metadata": {},
      "outputs": [
        {
          "name": "stdout",
          "output_type": "stream",
          "text": [
            "Notebook last run (end-to-end): 2025-02-10 01:08:10.874730\n"
          ]
        }
      ],
      "source": [
        "# Timestamp\n",
        "import datetime\n",
        "\n",
        "import datetime\n",
        "print(f\"Notebook last run (end-to-end): {datetime.datetime.now()}\")"
      ]
    },
    {
      "cell_type": "markdown",
      "metadata": {
        "id": "aOGIGS-uz3i2"
      },
      "source": [
        "We need to change the working directory from its current folder to its parent folder\n",
        "* We access the current directory with os.getcwd()"
      ]
    },
    {
      "cell_type": "code",
      "execution_count": 39,
      "metadata": {
        "id": "wZfF_j-Bz3i4",
        "outputId": "66943449-1436-4c3d-85c7-b85f9f78349b"
      },
      "outputs": [
        {
          "data": {
            "text/plain": [
              "'c:\\\\Users\\\\blign\\\\Dropbox\\\\1 PROJECT'"
            ]
          },
          "execution_count": 39,
          "metadata": {},
          "output_type": "execute_result"
        }
      ],
      "source": [
        "import os\n",
        "current_dir = os.getcwd()\n",
        "current_dir"
      ]
    },
    {
      "cell_type": "markdown",
      "metadata": {
        "id": "9MWW8E7lz3i7"
      },
      "source": [
        "We want to make the parent of the current directory the new current directory\n",
        "* os.path.dirname() gets the parent directory\n",
        "* os.chir() defines the new current directory"
      ]
    },
    {
      "cell_type": "code",
      "execution_count": 40,
      "metadata": {
        "id": "TwHsQRWjz3i9",
        "outputId": "86849db3-cd2f-4cc5-ebb8-2d0caafa1a2c"
      },
      "outputs": [
        {
          "name": "stdout",
          "output_type": "stream",
          "text": [
            "You set a new current directory\n"
          ]
        }
      ],
      "source": [
        "os.chdir(os.path.dirname(current_dir))\n",
        "print(\"You set a new current directory\")"
      ]
    },
    {
      "cell_type": "markdown",
      "metadata": {
        "id": "M_xPk_Ijz3i-"
      },
      "source": [
        "Confirm the new current directory"
      ]
    },
    {
      "cell_type": "code",
      "execution_count": 41,
      "metadata": {
        "id": "vz3S-_kjz3jA",
        "outputId": "00b79ae4-75d0-4a96-d193-ac9ef9847ea2"
      },
      "outputs": [
        {
          "data": {
            "text/plain": [
              "'c:\\\\Users\\\\blign\\\\Dropbox'"
            ]
          },
          "execution_count": 41,
          "metadata": {},
          "output_type": "execute_result"
        }
      ],
      "source": [
        "current_dir = os.getcwd()\n",
        "current_dir"
      ]
    },
    {
      "attachments": {},
      "cell_type": "markdown",
      "metadata": {
        "id": "-mavJ8DibrcQ"
      },
      "source": [
        "# Fetch data from Kaggle\n",
        "Install Kaggle package to fetch data\n"
      ]
    },
    {
      "cell_type": "code",
      "execution_count": 42,
      "metadata": {},
      "outputs": [
        {
          "name": "stdout",
          "output_type": "stream",
          "text": [
            "Requirement already satisfied: kaggle==1.5.12 in c:\\users\\blign\\dropbox\\1 project\\vs code project respository\\about-bulldozerpricegenius-_bpg-_v2\\env\\lib\\site-packages (1.5.12)\n",
            "Requirement already satisfied: six>=1.10 in c:\\users\\blign\\dropbox\\1 project\\vs code project respository\\about-bulldozerpricegenius-_bpg-_v2\\env\\lib\\site-packages (from kaggle==1.5.12) (1.17.0)\n",
            "Requirement already satisfied: certifi in c:\\users\\blign\\dropbox\\1 project\\vs code project respository\\about-bulldozerpricegenius-_bpg-_v2\\env\\lib\\site-packages (from kaggle==1.5.12) (2025.1.31)\n",
            "Requirement already satisfied: python-dateutil in c:\\users\\blign\\dropbox\\1 project\\vs code project respository\\about-bulldozerpricegenius-_bpg-_v2\\env\\lib\\site-packages (from kaggle==1.5.12) (2.9.0.post0)\n",
            "Requirement already satisfied: requests in c:\\users\\blign\\dropbox\\1 project\\vs code project respository\\about-bulldozerpricegenius-_bpg-_v2\\env\\lib\\site-packages (from kaggle==1.5.12) (2.32.3)\n",
            "Requirement already satisfied: tqdm in c:\\users\\blign\\dropbox\\1 project\\vs code project respository\\about-bulldozerpricegenius-_bpg-_v2\\env\\lib\\site-packages (from kaggle==1.5.12) (4.67.1)\n",
            "Requirement already satisfied: python-slugify in c:\\users\\blign\\dropbox\\1 project\\vs code project respository\\about-bulldozerpricegenius-_bpg-_v2\\env\\lib\\site-packages (from kaggle==1.5.12) (8.0.4)\n",
            "Requirement already satisfied: urllib3 in c:\\users\\blign\\dropbox\\1 project\\vs code project respository\\about-bulldozerpricegenius-_bpg-_v2\\env\\lib\\site-packages (from kaggle==1.5.12) (2.3.0)\n",
            "Requirement already satisfied: text-unidecode>=1.3 in c:\\users\\blign\\dropbox\\1 project\\vs code project respository\\about-bulldozerpricegenius-_bpg-_v2\\env\\lib\\site-packages (from python-slugify->kaggle==1.5.12) (1.3)\n",
            "Requirement already satisfied: charset-normalizer<4,>=2 in c:\\users\\blign\\dropbox\\1 project\\vs code project respository\\about-bulldozerpricegenius-_bpg-_v2\\env\\lib\\site-packages (from requests->kaggle==1.5.12) (3.4.1)\n",
            "Requirement already satisfied: idna<4,>=2.5 in c:\\users\\blign\\dropbox\\1 project\\vs code project respository\\about-bulldozerpricegenius-_bpg-_v2\\env\\lib\\site-packages (from requests->kaggle==1.5.12) (3.10)\n",
            "Requirement already satisfied: colorama in c:\\users\\blign\\dropbox\\1 project\\vs code project respository\\about-bulldozerpricegenius-_bpg-_v2\\env\\lib\\site-packages (from tqdm->kaggle==1.5.12) (0.4.6)\n"
          ]
        }
      ],
      "source": [
        "! pip install kaggle==1.5.12"
      ]
    },
    {
      "cell_type": "markdown",
      "metadata": {},
      "source": []
    },
    {
      "attachments": {},
      "cell_type": "markdown",
      "metadata": {},
      "source": [
        "# Kaggle Authentication and Permissions Setup\n",
        "The configures Kaggle authentication by setting up the environment directory and adjusting file permissions based on the operating system (Windows/Mac/Linux) to ensure secure access to Kaggle credentials."
      ]
    },
    {
      "cell_type": "code",
      "execution_count": 43,
      "metadata": {},
      "outputs": [],
      "source": [
        "import os\n",
        "import platform\n",
        "\n",
        "# Set Kaggle config directory\n",
        "os.environ['KAGGLE_CONFIG_DIR'] = os.getcwd()\n",
        "\n",
        "# Check operating system and set permissions accordingly\n",
        "if platform.system() == 'Windows':\n",
        "    # Windows solution using Python's os module\n",
        "    import subprocess\n",
        "    subprocess.run(['icacls', 'kaggle.json', '/grant:r', f'{os.getenv(\"USERNAME\")}:F'], shell=True)\n",
        "else:\n",
        "    # Unix/Linux/Mac solution\n",
        "    os.chmod('kaggle.json', 0o600)"
      ]
    },
    {
      "attachments": {},
      "cell_type": "markdown",
      "metadata": {},
      "source": [
        "Get the dataset path from the Kaggle url\n",
        "* When you are viewing the dataset at Kaggle, check what is after https://www.kaggle.com/ ."
      ]
    },
    {
      "attachments": {},
      "cell_type": "markdown",
      "metadata": {},
      "source": [
        "Define the Kaggle dataset, and destination folder and download it."
      ]
    },
    {
      "cell_type": "markdown",
      "metadata": {},
      "source": [
        "# Download and Setup Dataset"
      ]
    },
    {
      "cell_type": "code",
      "execution_count": 44,
      "metadata": {},
      "outputs": [],
      "source": [
        "import requests\n",
        "import os\n",
        "import zipfile\n",
        "\n",
        "# Create data/raw directory if it doesn't exist\n",
        "os.makedirs(\"data/raw\", exist_ok=True)\n",
        "\n",
        "# Download the file\n",
        "url = \"https://github.com/mrdbourke/zero-to-mastery-ml/raw/master/data/bluebook-for-bulldozers.zip\"\n",
        "response = requests.get(url)\n",
        "with open(\"data/raw/bluebook-for-bulldozers.zip\", \"wb\") as f:\n",
        "    f.write(response.content)"
      ]
    },
    {
      "cell_type": "markdown",
      "metadata": {
        "id": "ZY3l0-AxO93d"
      },
      "source": [
        "---"
      ]
    },
    {
      "attachments": {},
      "cell_type": "markdown",
      "metadata": {
        "id": "uFQo3ycuO-v6"
      },
      "source": [
        "# Load and Inspect Kaggle data"
      ]
    },
    {
      "cell_type": "markdown",
      "metadata": {},
      "source": [
        "Section 2 content"
      ]
    },
    {
      "cell_type": "code",
      "execution_count": 45,
      "metadata": {},
      "outputs": [
        {
          "name": "stdout",
          "output_type": "stream",
          "text": [
            "Notebook last run (end-to-end): 2025-02-10 01:08:22.292442\n"
          ]
        }
      ],
      "source": [
        "# Timestamp\n",
        "import datetime\n",
        "\n",
        "import datetime\n",
        "print(f\"Notebook last run (end-to-end): {datetime.datetime.now()}\")"
      ]
    },
    {
      "cell_type": "markdown",
      "metadata": {},
      "source": [
        "## 1. Data Import and Preprocessing\n",
        "\n",
        "This section covers the initial setup of the environment and required libraries.\n",
        "\n",
        "The following libraries will be imported: pandas (data manipulation), NumPy (numerical operations), and matplotlib (visualization)."
      ]
    },
    {
      "cell_type": "code",
      "execution_count": 46,
      "metadata": {},
      "outputs": [
        {
          "name": "stdout",
          "output_type": "stream",
          "text": [
            "pandas version: 2.2.3\n",
            "NumPy version: 2.2.2\n",
            "matplotlib version: 3.10.0\n"
          ]
        }
      ],
      "source": [
        "# Import data analysis tools\n",
        "import pandas as pd\n",
        "import numpy as np\n",
        "import matplotlib\n",
        "import matplotlib.pyplot as plt\n",
        "\n",
        "\n",
        "print(f\"pandas version: {pd.__version__}\")\n",
        "print(f\"NumPy version: {np.__version__}\")\n",
        "print(f\"matplotlib version: {matplotlib.__version__}\")"
      ]
    },
    {
      "cell_type": "markdown",
      "metadata": {},
      "source": [
        "## Download and Check Dataset\n",
        "This code helps us get the bulldozer dataset for our project. It first checks if we already have the data on our computer. If we don't have it, it downloads it from the internet and puts it in the right folder. If the dataset already exists, it simply tells us it's ready to use."
      ]
    },
    {
      "cell_type": "code",
      "execution_count": 47,
      "metadata": {},
      "outputs": [
        {
          "name": "stdout",
          "output_type": "stream",
          "text": [
            "[INFO] Downloading dataset...\n",
            "[INFO] Dataset downloaded to data\\raw\\bluebook-for-bulldozers\n"
          ]
        }
      ],
      "source": [
        "from pathlib import Path\n",
        "import requests\n",
        "import zipfile\n",
        "import shutil\n",
        "import os\n",
        "\n",
        "dataset_dir = Path(\"data/raw/bluebook-for-bulldozers\")\n",
        "if not dataset_dir.is_dir():\n",
        "    print(\"[INFO] Downloading dataset...\")\n",
        "    \n",
        "    # Create directories\n",
        "    Path(\"data/raw\").mkdir(parents=True, exist_ok=True)\n",
        "    \n",
        "    # Download file\n",
        "    url = \"https://github.com/mrdbourke/zero-to-mastery-ml/raw/refs/heads/master/data/bluebook-for-bulldozers.zip\"\n",
        "    response = requests.get(url)\n",
        "    with open(\"dataset.zip\", \"wb\") as f:\n",
        "        f.write(response.content)\n",
        "    \n",
        "    # Unzip file\n",
        "    with zipfile.ZipFile(\"dataset.zip\", \"r\") as zip_ref:\n",
        "        zip_ref.extractall(\".\")\n",
        "    \n",
        "    # Move to correct location\n",
        "    shutil.move(\"bluebook-for-bulldozers\", \"data/raw/\")\n",
        "    \n",
        "    # Clean up zip file\n",
        "    os.remove(\"dataset.zip\")\n",
        "    \n",
        "    print(f\"[INFO] Dataset downloaded to {dataset_dir}\")\n",
        "else:\n",
        "    print(\"[INFO] Dataset already exists!\")\n"
      ]
    },
    {
      "cell_type": "markdown",
      "metadata": {},
      "source": [
        "### Directory Contents Checker\n",
        "\n",
        "This simple code snippet helps you see what files and folders are inside a specific directory (folder). It prints out a list of everything in that directory, making it easy to check what's available."
      ]
    },
    {
      "cell_type": "code",
      "execution_count": 48,
      "metadata": {},
      "outputs": [
        {
          "name": "stdout",
          "output_type": "stream",
          "text": [
            "[INFO] Files/folders available in data\\raw\\bluebook-for-bulldozers:\n"
          ]
        },
        {
          "data": {
            "text/plain": [
              "['Data Dictionary.xlsx',\n",
              " 'Machine_Appendix.csv',\n",
              " 'median_benchmark.csv',\n",
              " 'random_forest_benchmark_test.csv',\n",
              " 'Test.csv',\n",
              " 'test_predictions.csv',\n",
              " 'Train.7z',\n",
              " 'Train.csv',\n",
              " 'Train.zip',\n",
              " 'TrainAndValid.7z',\n",
              " 'TrainAndValid.csv',\n",
              " 'TrainAndValid.zip',\n",
              " 'train_tmp.csv',\n",
              " 'Valid.7z',\n",
              " 'Valid.csv',\n",
              " 'Valid.zip',\n",
              " 'ValidSolution.csv']"
            ]
          },
          "execution_count": 48,
          "metadata": {},
          "output_type": "execute_result"
        }
      ],
      "source": [
        "import os\n",
        "\n",
        "print(f\"[INFO] Files/folders available in {dataset_dir}:\")\n",
        "os.listdir(dataset_dir)"
      ]
    },
    {
      "cell_type": "markdown",
      "metadata": {},
      "source": [
        "---"
      ]
    },
    {
      "cell_type": "markdown",
      "metadata": {},
      "source": [
        "### Data Directory and File Creation\n",
        "\n",
        "This code does two simple things:\n",
        "\n",
        "- Creates a new folder structure to store our data files\n",
        "- Saves our data as a CSV file in that folder"
      ]
    },
    {
      "cell_type": "code",
      "execution_count": 49,
      "metadata": {
        "id": "aKlnIozA4eQO",
        "outputId": "fd09bc1f-adb1-4511-f6ce-492a6af570c0"
      },
      "outputs": [],
      "source": [
        "#import os\n",
        "#try:\n",
        "  # creating here the folder to accomodate the data in a csv file for further analysis.\n",
        "  #os.makedirs(name='outputs/datasets/collection')\n",
        "#except Exception as e:\n",
        "  #print(e)\n",
        "\n",
        "#df.to_csv(f\"outputs/datasets/collection/house_prices_ames_iowa.csv\",index=False)"
      ]
    }
  ],
  "metadata": {
    "accelerator": "GPU",
    "colab": {
      "name": "Data Practitioner Jupyter Notebook.ipynb",
      "provenance": [],
      "toc_visible": true
    },
    "kernelspec": {
      "display_name": "env",
      "language": "python",
      "name": "python3"
    },
    "language_info": {
      "codemirror_mode": {
        "name": "ipython",
        "version": 3
      },
      "file_extension": ".py",
      "mimetype": "text/x-python",
      "name": "python",
      "nbconvert_exporter": "python",
      "pygments_lexer": "ipython3",
      "version": "3.12.8"
    },
    "orig_nbformat": 2
  },
  "nbformat": 4,
  "nbformat_minor": 2
}
